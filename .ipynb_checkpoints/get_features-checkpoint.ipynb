{
 "cells": [
  {
   "cell_type": "code",
   "execution_count": 1,
   "metadata": {},
   "outputs": [],
   "source": [
    "import numpy as np\n",
    "import pickle"
   ]
  },
  {
   "cell_type": "code",
   "execution_count": 2,
   "metadata": {},
   "outputs": [],
   "source": [
    "def features(data):\n",
    "    res = []\n",
    "    \n",
    "    res.append(list(map(len,data)))\n",
    "    res.append(list(map(np.mean,data)))\n",
    "    res.append(list(map(np.sum,data)))\n",
    "    res.append(list(map(np.std,data)))\n",
    "    res.append(list(map(lambda x: np.max(x) - np.min(x),data)))\n",
    "    for i in range(0,110,10):\n",
    "        res.append(list(map(lambda x: np.percentile(x, i),data)))\n",
    "\n",
    "    point = lambda arrays, idx: map(lambda array: array[idx::8], arrays)    \n",
    "    parsed = [list(point(data, i)) for i in range(8)]\n",
    "\n",
    "    for i in range(8):\n",
    "        res.append(list(map(len,parsed[i])))\n",
    "        res.append(list(map(np.mean,parsed[i])))\n",
    "        res.append(list(map(np.sum,parsed[i])))\n",
    "        res.append(list(map(np.std,parsed[i])))\n",
    "        res.append(list(map(lambda x: np.max(x) - np.min(x),parsed[i])))\n",
    "        res.append(list(map(lambda x: Counter(x).most_common()[0][0], parsed[i])))\n",
    "        res.append(list(map(lambda x: Counter(x).most_common()[0][1], parsed[i])))\n",
    "        for j in range(0,110,10):\n",
    "            res.append(list(map(lambda x: np.percentile(x, j),parsed[i])))\n",
    "            \n",
    "    return np.vstack(res).T"
   ]
  },
  {
   "cell_type": "code",
   "execution_count": 4,
   "metadata": {},
   "outputs": [],
   "source": [
    "X_train, y_train, X_train_skel_features = None, None, None\n",
    "\n",
    "with open(\"../data/train_info\", \"rb\") as fin:\n",
    "    data = pickle.load(fin)\n",
    "    X_train, y_train, X_train_skel_features = data[\"data\"], data[\"labels\"], data[\"skel_features\"]\n",
    "\n",
    "X_test, y_test, X_test_skel_features = None, None, None\n",
    "with open(\"../data/test_info\", \"rb\") as fin:\n",
    "    data = pickle.load(fin)\n",
    "    X_test, y_test, X_test_skel_features = data[\"data\"], data[\"labels\"], data[\"skel_features\"]"
   ]
  },
  {
   "cell_type": "markdown",
   "metadata": {},
   "source": [
    "## Долго работает:"
   ]
  },
  {
   "cell_type": "code",
   "execution_count": null,
   "metadata": {},
   "outputs": [],
   "source": [
    "'''\n",
    "x_train_skel_features = features(X_train_skel_features)\n",
    "x_test_skel_features = features(X_test_skel_features)\n",
    "input_dim_skelet = (x_train_skel_features.shape[1],)\n",
    "np.save(x_train_skel_features_skel_features', x_train_skel_features)\n",
    "np.save('data/x_test_skel_features', x_test_skel_features)\n",
    "'''"
   ]
  }
 ],
 "metadata": {
  "kernelspec": {
   "display_name": "Python 3",
   "language": "python",
   "name": "python3"
  },
  "language_info": {
   "codemirror_mode": {
    "name": "ipython",
    "version": 3
   },
   "file_extension": ".py",
   "mimetype": "text/x-python",
   "name": "python",
   "nbconvert_exporter": "python",
   "pygments_lexer": "ipython3",
   "version": "3.7.3"
  }
 },
 "nbformat": 4,
 "nbformat_minor": 2
}
