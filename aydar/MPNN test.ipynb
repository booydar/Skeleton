{
 "cells": [
  {
   "cell_type": "code",
   "execution_count": 5,
   "metadata": {},
   "outputs": [
    {
     "name": "stderr",
     "output_type": "stream",
     "text": [
      "Using TensorFlow backend.\n"
     ]
    }
   ],
   "source": [
    "import os\n",
    "import sys\n",
    "import pickle\n",
    "import time\n",
    "import numpy as np\n",
    "from tqdm.auto  import tqdm\n",
    "\n",
    "import torch\n",
    "import torch.nn as nn\n",
    "import torch.nn.functional as F\n",
    "from torch.utils.data import SubsetRandomSampler\n",
    "from torch_scatter import scatter_mean\n",
    "\n",
    "from torch_geometric.data import DataLoader\n",
    "from torch_geometric.nn import (NNConv, GMMConv, GraphConv, Set2Set)\n",
    "from torch_geometric.data import (InMemoryDataset, Data)\n",
    "import torch_geometric.transforms as T\n",
    "from torch_geometric.utils import normalized_cut\n",
    "# import torch_spline_conv\n",
    "from torch_geometric.nn import (SplineConv, graclus, max_pool, max_pool_x, global_mean_pool)\n",
    "# from torch_geometric.nn import graclus,  max_pool, max_pool_x, global_mean_pool\n",
    "# from torch_spline_conv import (SplineConv)\n",
    "# import torch_spline_conv\n",
    "\n",
    "# from torch_geometric.datasets import MNISTSuperpixels\n",
    "import keras\n",
    "\n",
    "import progressbar"
   ]
  },
  {
   "cell_type": "code",
   "execution_count": 118,
   "metadata": {},
   "outputs": [],
   "source": [
    "\n",
    "X_train = np.load(\"skel_features/mnist/save/X_train.npy\", allow_pickle=True)\n",
    "X_test = np.load(\"skel_features/mnist/save/X_test.npy\", allow_pickle=True)\n",
    "y_train = np.load(\"skel_features/mnist/save/y_train.npy\", allow_pickle=True)\n",
    "y_test = np.load(\"skel_features/mnist/save/y_test.npy\", allow_pickle=True)\n",
    "skeleton_train = np.load(\"skel_features/mnist/save/skeleton_train.npy\", allow_pickle=True)\n",
    "skeleton_test = np.load(\"skel_features/mnist/save/skeleton_test.npy\", allow_pickle=True)\n",
    "\n",
    "# max_len = np.max([x.shape[0] for x in np.hstack([skeleton_train, skeleton_test])])\n",
    "\n",
    "# for i in range(len(skeleton_train)):\n",
    "#     tmp = np.zeros((max_len))\n",
    "#     tmp[:len(skeleton_train[i])] = skeleton_train[i]\n",
    "#     skeleton_train[i] = tmp\n",
    "    \n",
    "# for i in range(len(skeleton_test)):\n",
    "#     tmp = np.zeros((max_len))\n",
    "#     tmp[:len(skeleton_test[i])] = skeleton_test[i]\n",
    "#     skeleton_test[i] = tmp\n",
    "    \n",
    "X_train = np.vstack(X_train).reshape(60000,28,28,1)\n",
    "X_test = np.vstack(X_test).reshape(10000,28,28,1)\n",
    "y_train = keras.utils.to_categorical(y_train)\n",
    "y_test = keras.utils.to_categorical(y_test)\n",
    "# skeleton_train = np.vstack(skeleton_train)\n",
    "# skeleton_test = np.vstack(skeleton_test)\n",
    "\n",
    "# num_features = max_len"
   ]
  },
  {
   "cell_type": "markdown",
   "metadata": {},
   "source": [
    "### we need to transform skeleton to edge_index"
   ]
  },
  {
   "cell_type": "code",
   "execution_count": 133,
   "metadata": {},
   "outputs": [
    {
     "name": "stdout",
     "output_type": "stream",
     "text": [
      "Collecting progressbar\n",
      "  Downloading https://files.pythonhosted.org/packages/a3/a6/b8e451f6cff1c99b4747a2f7235aa904d2d49e8e1464e0b798272aa84358/progressbar-2.5.tar.gz\n",
      "Building wheels for collected packages: progressbar\n",
      "  Building wheel for progressbar (setup.py) ... \u001b[?25ldone\n",
      "\u001b[?25h  Created wheel for progressbar: filename=progressbar-2.5-cp37-none-any.whl size=12073 sha256=a7fdd012292f667077a0a5f675296b954d90a7e4fadb3f4d16ad675c99bb4257\n",
      "  Stored in directory: /Users/aydar/Library/Caches/pip/wheels/c0/e9/6b/ea01090205e285175842339aa3b491adeb4015206cda272ff0\n",
      "Successfully built progressbar\n",
      "Installing collected packages: progressbar\n",
      "Successfully installed progressbar-2.5\n"
     ]
    }
   ],
   "source": [
    "!pip install progressbar"
   ]
  },
  {
   "cell_type": "code",
   "execution_count": 141,
   "metadata": {},
   "outputs": [
    {
     "name": "stderr",
     "output_type": "stream",
     "text": [
      " 99% |####################################################################### |\r"
     ]
    }
   ],
   "source": [
    "bar = progressbar.ProgressBar(skeleton_train.shape[0])\n",
    "bar.start()\n",
    "\n",
    "edge_index_train = []\n",
    "for j, skeleton in enumerate(skeleton_train):\n",
    "    skeleton = skeleton.reshape(-1,8)\n",
    "    nodes_l = skeleton[:, 0:2]\n",
    "    nodes_r = skeleton[:, 4:6]\n",
    "    \n",
    "    nodes = np.unique(np.vstack((nodes_l, nodes_r)), axis=0)\n",
    "    node_ind = {}\n",
    "    for i, node in enumerate(nodes):\n",
    "        node_ind[str(node)] = i\n",
    "\n",
    "    edge_index = [[],[]]\n",
    "    for i in range(nodes_l.shape[0]):\n",
    "        node0 = node_ind[str(nodes_l[i])]\n",
    "        node1 = node_ind[str(nodes_r[i])]\n",
    "        edge_index[0].append(node0)\n",
    "        edge_index[1].append(node1)\n",
    "    \n",
    "    edge_index_train.append(edge_index)\n",
    "    \n",
    "    bar.update(j)\n",
    "    \n",
    "    "
   ]
  },
  {
   "cell_type": "code",
   "execution_count": 140,
   "metadata": {
    "scrolled": true
   },
   "outputs": [
    {
     "name": "stderr",
     "output_type": "stream",
     "text": [
      " 99% |####################################################################### |\r"
     ]
    }
   ],
   "source": [
    "bar = progressbar.ProgressBar(skeleton_test.shape[0])\n",
    "bar.start()\n",
    "\n",
    "edge_index_test = []\n",
    "for j, skeleton in enumerate(skeleton_test):\n",
    "    skeleton = skeleton.reshape(-1,8)\n",
    "    nodes_l = skeleton[:, 0:2]\n",
    "    nodes_r = skeleton[:, 4:6]\n",
    "    \n",
    "    nodes = np.unique(np.vstack((nodes_l, nodes_r)), axis=0)\n",
    "    node_ind = {}\n",
    "    for i, node in enumerate(nodes):\n",
    "        node_ind[str(node)] = i\n",
    "\n",
    "    edge_index = [[],[]]\n",
    "    for i in range(nodes_l.shape[0]):\n",
    "        node0 = node_ind[str(nodes_l[i])]\n",
    "        node1 = node_ind[str(nodes_r[i])]\n",
    "        edge_index[0].append(node0)\n",
    "        edge_index[1].append(node1)\n",
    "    \n",
    "    edge_index_test.append(edge_index)\n",
    "    \n",
    "    bar.update(j)"
   ]
  },
  {
   "cell_type": "code",
   "execution_count": 149,
   "metadata": {},
   "outputs": [
    {
     "data": {
      "text/plain": [
       "[[1,\n",
       "  2,\n",
       "  3,\n",
       "  6,\n",
       "  8,\n",
       "  16,\n",
       "  17,\n",
       "  18,\n",
       "  21,\n",
       "  22,\n",
       "  23,\n",
       "  25,\n",
       "  27,\n",
       "  30,\n",
       "  31,\n",
       "  34,\n",
       "  36,\n",
       "  38,\n",
       "  37,\n",
       "  35,\n",
       "  33,\n",
       "  32,\n",
       "  29,\n",
       "  28,\n",
       "  26,\n",
       "  24,\n",
       "  20,\n",
       "  19,\n",
       "  15,\n",
       "  14,\n",
       "  13,\n",
       "  12,\n",
       "  11,\n",
       "  10,\n",
       "  9,\n",
       "  7,\n",
       "  5,\n",
       "  4,\n",
       "  2],\n",
       " [0,\n",
       "  0,\n",
       "  1,\n",
       "  3,\n",
       "  6,\n",
       "  8,\n",
       "  16,\n",
       "  17,\n",
       "  18,\n",
       "  21,\n",
       "  22,\n",
       "  23,\n",
       "  25,\n",
       "  27,\n",
       "  30,\n",
       "  31,\n",
       "  34,\n",
       "  36,\n",
       "  38,\n",
       "  37,\n",
       "  35,\n",
       "  33,\n",
       "  32,\n",
       "  29,\n",
       "  28,\n",
       "  26,\n",
       "  24,\n",
       "  20,\n",
       "  19,\n",
       "  15,\n",
       "  14,\n",
       "  13,\n",
       "  12,\n",
       "  11,\n",
       "  10,\n",
       "  9,\n",
       "  7,\n",
       "  5,\n",
       "  4]]"
      ]
     },
     "execution_count": 149,
     "metadata": {},
     "output_type": "execute_result"
    }
   ],
   "source": [
    "edge_index_test[0]"
   ]
  },
  {
   "cell_type": "code",
   "execution_count": 148,
   "metadata": {},
   "outputs": [
    {
     "data": {
      "text/plain": [
       "Data(edge_index=[2])"
      ]
     },
     "execution_count": 148,
     "metadata": {},
     "output_type": "execute_result"
    }
   ],
   "source": [
    "Data(edge_index=edge_index_test[0])"
   ]
  },
  {
   "cell_type": "code",
   "execution_count": 127,
   "metadata": {},
   "outputs": [
    {
     "data": {
      "text/plain": [
       "(35, 8)"
      ]
     },
     "execution_count": 127,
     "metadata": {},
     "output_type": "execute_result"
    }
   ],
   "source": [
    "# skeleton = skeleton_train.reshape(len(skeleton_train)//8, -1,8)\n",
    "skeleton = skeleton_train[0].reshape(-1,8)\n",
    "nodes_l = skeleton[:, 0:2]\n",
    "nodes_r = skeleton[:, 4:6]\n",
    "skeleton.shape"
   ]
  },
  {
   "cell_type": "code",
   "execution_count": 129,
   "metadata": {},
   "outputs": [
    {
     "data": {
      "text/plain": [
       "array([[ 1,  2,  4,  5,  5,  9, 12, 13, 15, 20, 22, 24, 27, 31, 33, 32,\n",
       "        30, 29, 28, 26, 25, 23, 21, 19, 18, 17, 16, 14, 11, 10,  8,  7,\n",
       "         6,  3],\n",
       "       [ 0,  0,  1,  4,  5,  5,  9, 12, 13, 15, 20, 22, 24, 27, 31, 33,\n",
       "        32, 30, 29, 28, 26, 25, 23, 21, 19, 18, 17, 16, 14, 11, 10,  8,\n",
       "         7,  6]])"
      ]
     },
     "execution_count": 129,
     "metadata": {},
     "output_type": "execute_result"
    }
   ],
   "source": [
    "nodes = np.unique(np.vstack((nodes_l, nodes_r)), axis=0)\n",
    "node_ind = {}\n",
    "for i, node in enumerate(nodes):\n",
    "    node_ind[str(node)] = i\n",
    "    \n",
    "edge_index = [[],[]]\n",
    "for i in range(nodes.shape[0]):\n",
    "    node0 = node_ind[str(nodes_l[i])]\n",
    "    node1 = node_ind[str(nodes_r[i])]\n",
    "    edge_index[0].append(node0)\n",
    "    edge_index[1].append(node1)\n",
    "    \n",
    "\n",
    "np.array(edge_index)"
   ]
  },
  {
   "cell_type": "code",
   "execution_count": 97,
   "metadata": {},
   "outputs": [
    {
     "data": {
      "text/plain": [
       "array([0., 0.])"
      ]
     },
     "execution_count": 97,
     "metadata": {},
     "output_type": "execute_result"
    }
   ],
   "source": [
    "one"
   ]
  },
  {
   "cell_type": "code",
   "execution_count": 98,
   "metadata": {},
   "outputs": [
    {
     "data": {
      "text/plain": [
       "632"
      ]
     },
     "execution_count": 98,
     "metadata": {},
     "output_type": "execute_result"
    }
   ],
   "source": [
    "(n == one).sum()"
   ]
  },
  {
   "cell_type": "code",
   "execution_count": 29,
   "metadata": {},
   "outputs": [],
   "source": [
    "class MPNNNet(nn.Module):\n",
    "    def __init__(self, num_features, aggr='mean', processing_steps=8, message_passing_steps=4, dim=64):\n",
    "        super(MPNNNet, self).__init__()\n",
    "        self.message_passing_steps = message_passing_steps\n",
    "        \n",
    "        self.lin0 = torch.nn.Linear(num_features, dim) # Change 2 to 1 for superpixels\n",
    "        nn = torch.nn.Sequential(torch.nn.Linear(2, 128), torch.nn.ReLU(), torch.nn.Linear(128, dim * dim))\n",
    "        self.conv = NNConv(dim, dim, nn, aggr=aggr, root_weight=False)\n",
    "        self.gru = torch.nn.GRU(dim, dim)\n",
    "        \n",
    "        self.set2set = Set2Set(dim, processing_steps=processing_steps)\n",
    "        self.lin1 = torch.nn.Linear(2 * dim, dim)\n",
    "        self.lin2 = torch.nn.Linear(dim, 10)\n",
    "        \n",
    "    def forward(self, data):\n",
    "        out = F.relu(self.lin0(data))\n",
    "        h = out.unsqueeze(0)\n",
    "\n",
    "        for i in range(self.message_passing_steps):\n",
    "            m = F.relu(self.conv(out, data.edge_index, data.edge_attr))\n",
    "            out, h = self.gru(m.unsqueeze(0), h)\n",
    "            out = out.squeeze(0)\n",
    "\n",
    "        out = self.set2set(out, data.batch)\n",
    "        out = F.relu(self.lin1(out))\n",
    "        return F.log_softmax(self.lin2(out), dim=1)"
   ]
  },
  {
   "cell_type": "code",
   "execution_count": 46,
   "metadata": {},
   "outputs": [],
   "source": [
    "net = MPNNNet(num_features).double()"
   ]
  },
  {
   "cell_type": "code",
   "execution_count": 47,
   "metadata": {},
   "outputs": [
    {
     "ename": "AttributeError",
     "evalue": "'Tensor' object has no attribute 'edge_index'",
     "output_type": "error",
     "traceback": [
      "\u001b[0;31m---------------------------------------------------------------------------\u001b[0m",
      "\u001b[0;31mAttributeError\u001b[0m                            Traceback (most recent call last)",
      "\u001b[0;32m<ipython-input-47-13f572281639>\u001b[0m in \u001b[0;36m<module>\u001b[0;34m\u001b[0m\n\u001b[0;32m----> 1\u001b[0;31m \u001b[0mnet\u001b[0m\u001b[0;34m.\u001b[0m\u001b[0mforward\u001b[0m\u001b[0;34m(\u001b[0m\u001b[0mtorch\u001b[0m\u001b[0;34m.\u001b[0m\u001b[0mtensor\u001b[0m\u001b[0;34m(\u001b[0m\u001b[0mskeleton_train\u001b[0m\u001b[0;34m[\u001b[0m\u001b[0;36m0\u001b[0m\u001b[0;34m]\u001b[0m\u001b[0;34m)\u001b[0m\u001b[0;34m)\u001b[0m\u001b[0;34m\u001b[0m\u001b[0;34m\u001b[0m\u001b[0m\n\u001b[0m",
      "\u001b[0;32m<ipython-input-29-24e2fa941b8d>\u001b[0m in \u001b[0;36mforward\u001b[0;34m(self, data)\u001b[0m\n\u001b[1;32m     18\u001b[0m \u001b[0;34m\u001b[0m\u001b[0m\n\u001b[1;32m     19\u001b[0m         \u001b[0;32mfor\u001b[0m \u001b[0mi\u001b[0m \u001b[0;32min\u001b[0m \u001b[0mrange\u001b[0m\u001b[0;34m(\u001b[0m\u001b[0mself\u001b[0m\u001b[0;34m.\u001b[0m\u001b[0mmessage_passing_steps\u001b[0m\u001b[0;34m)\u001b[0m\u001b[0;34m:\u001b[0m\u001b[0;34m\u001b[0m\u001b[0;34m\u001b[0m\u001b[0m\n\u001b[0;32m---> 20\u001b[0;31m             \u001b[0mm\u001b[0m \u001b[0;34m=\u001b[0m \u001b[0mF\u001b[0m\u001b[0;34m.\u001b[0m\u001b[0mrelu\u001b[0m\u001b[0;34m(\u001b[0m\u001b[0mself\u001b[0m\u001b[0;34m.\u001b[0m\u001b[0mconv\u001b[0m\u001b[0;34m(\u001b[0m\u001b[0mout\u001b[0m\u001b[0;34m,\u001b[0m \u001b[0mdata\u001b[0m\u001b[0;34m.\u001b[0m\u001b[0medge_index\u001b[0m\u001b[0;34m,\u001b[0m \u001b[0mdata\u001b[0m\u001b[0;34m.\u001b[0m\u001b[0medge_attr\u001b[0m\u001b[0;34m)\u001b[0m\u001b[0;34m)\u001b[0m\u001b[0;34m\u001b[0m\u001b[0;34m\u001b[0m\u001b[0m\n\u001b[0m\u001b[1;32m     21\u001b[0m             \u001b[0mout\u001b[0m\u001b[0;34m,\u001b[0m \u001b[0mh\u001b[0m \u001b[0;34m=\u001b[0m \u001b[0mself\u001b[0m\u001b[0;34m.\u001b[0m\u001b[0mgru\u001b[0m\u001b[0;34m(\u001b[0m\u001b[0mm\u001b[0m\u001b[0;34m.\u001b[0m\u001b[0munsqueeze\u001b[0m\u001b[0;34m(\u001b[0m\u001b[0;36m0\u001b[0m\u001b[0;34m)\u001b[0m\u001b[0;34m,\u001b[0m \u001b[0mh\u001b[0m\u001b[0;34m)\u001b[0m\u001b[0;34m\u001b[0m\u001b[0;34m\u001b[0m\u001b[0m\n\u001b[1;32m     22\u001b[0m             \u001b[0mout\u001b[0m \u001b[0;34m=\u001b[0m \u001b[0mout\u001b[0m\u001b[0;34m.\u001b[0m\u001b[0msqueeze\u001b[0m\u001b[0;34m(\u001b[0m\u001b[0;36m0\u001b[0m\u001b[0;34m)\u001b[0m\u001b[0;34m\u001b[0m\u001b[0;34m\u001b[0m\u001b[0m\n",
      "\u001b[0;31mAttributeError\u001b[0m: 'Tensor' object has no attribute 'edge_index'"
     ]
    }
   ],
   "source": [
    "net.forward(torch.tensor(skeleton_train[0]))"
   ]
  },
  {
   "cell_type": "code",
   "execution_count": 45,
   "metadata": {},
   "outputs": [
    {
     "data": {
      "text/plain": [
       "tensor([-1.3433,  0.1281, -0.7942, -2.8545, -3.9708,  4.4691,  5.3152,  1.5529,\n",
       "        -1.3469,  0.3190,  4.4608, -4.8103, -5.8134,  2.0857, -0.6675,  5.8784,\n",
       "         3.3209,  4.8704,  3.2758, -0.2552, -1.3161, -7.2281,  9.7473, -7.9327,\n",
       "         3.6714,  3.1915,  2.3394, -1.1447, -2.8668,  1.5335, -0.9352,  6.6427,\n",
       "        -2.9320,  0.0193, -1.8996,  6.2554,  2.4394,  4.3844,  0.2130, -8.6886,\n",
       "        -4.8625,  1.1349, -4.8590,  0.4929,  9.6076,  4.8010,  4.6720,  1.7811,\n",
       "        -3.8135, -0.0297,  2.8187, -5.1534,  3.5983,  3.8094, -5.2263,  0.1551,\n",
       "        -1.7206,  2.4326,  5.9250, -1.3569,  5.2368,  7.3881, -1.6508,  1.7505],\n",
       "       dtype=torch.float64, grad_fn=<AddBackward0>)"
      ]
     },
     "execution_count": 45,
     "metadata": {},
     "output_type": "execute_result"
    }
   ],
   "source": [
    "lin0 = torch.nn.Linear(num_features, 64)\n",
    "lin0.double().forward(torch.tensor(skeleton_train[0]).double())\n"
   ]
  },
  {
   "cell_type": "code",
   "execution_count": 43,
   "metadata": {},
   "outputs": [
    {
     "data": {
      "text/plain": [
       "tensor([ 8.0000, 19.0000,  2.0000,  1.0000,  8.0000, 15.0000,  2.0000,  1.0000,\n",
       "         8.0557, 14.5279,  2.0000,  1.0557,  8.0000, 15.0000,  2.0000,  1.0000,\n",
       "         8.1716, 19.8284,  2.0000,  1.1716,  8.0000, 19.0000,  2.0000,  1.0000,\n",
       "         8.7574, 21.2426,  2.0000,  1.7574,  8.1716, 19.8284,  2.0000,  1.1716,\n",
       "         8.7574, 21.2426,  2.0000,  1.7574,  8.7574, 21.2426,  2.0000,  1.7574,\n",
       "        10.0000, 21.5000,  2.0000,  1.5000,  8.7574, 21.2426,  2.0000,  1.7574,\n",
       "        11.6459, 21.5000,  2.0000,  1.5000, 10.0000, 21.5000,  2.0000,  1.5000,\n",
       "        12.0000, 21.4164,  2.0000,  1.4164, 11.6459, 21.5000,  2.0000,  1.5000,\n",
       "        12.6000, 21.2000,  2.0000,  1.3416, 12.0000, 21.4164,  2.0000,  1.4164,\n",
       "        15.2053, 19.8974,  2.0000,  1.3416, 12.6000, 21.2000,  2.0000,  1.3416,\n",
       "        16.4868, 18.9737,  2.0000,  1.0886, 15.2053, 19.8974,  2.0000,  1.3416,\n",
       "        16.7500, 18.7500,  2.0000,  1.0607, 16.4868, 18.9737,  2.0000,  1.0886,\n",
       "        19.7500, 15.7500,  2.0000,  1.0607, 16.7500, 18.7500,  2.0000,  1.0607,\n",
       "        20.2426, 15.0000,  2.0000,  1.2426, 19.7500, 15.7500,  2.0000,  1.0607,\n",
       "        20.5000, 14.3787,  2.0000,  1.5000, 20.2426, 15.0000,  2.0000,  1.2426,\n",
       "        20.5000, 11.1847,  2.0000,  1.5000, 20.5000, 14.3787,  2.0000,  1.5000,\n",
       "        20.2311,  9.0000,  2.0000,  1.2311, 20.5000, 11.1847,  2.0000,  1.5000,\n",
       "        20.0977,  8.4511,  2.0000,  1.2273, 20.2311,  9.0000,  2.0000,  1.2311,\n",
       "        19.8101,  7.6737,  2.0000,  1.3177, 20.0977,  8.4511,  2.0000,  1.2273,\n",
       "        18.9737,  6.5132,  2.0000,  1.0886, 19.8101,  7.6737,  2.0000,  1.3177,\n",
       "        17.3495,  5.5705,  2.0000,  1.5705, 18.9737,  6.5132,  2.0000,  1.0886,\n",
       "        16.6351,  5.8105,  2.0000,  1.8105, 17.3495,  5.5705,  2.0000,  1.5705,\n",
       "        16.3161,  6.1581,  2.0000,  1.8826, 16.6351,  5.8105,  2.0000,  1.8105,\n",
       "        15.1163,  7.6423,  2.0000,  2.2921, 16.3161,  6.1581,  2.0000,  1.8826,\n",
       "        15.0485,  7.7029,  2.0000,  2.2971, 15.1163,  7.6423,  2.0000,  2.2921,\n",
       "        14.0000,  8.0707,  2.0000,  1.9293, 15.0485,  7.7029,  2.0000,  2.2971,\n",
       "        13.0453,  8.5679,  2.0000,  1.7211, 14.0000,  8.0707,  2.0000,  1.9293,\n",
       "        12.2135,  9.1761,  2.0000,  1.6765, 13.0453,  8.5679,  2.0000,  1.7211,\n",
       "        10.3148, 10.9722,  2.0000,  1.2352, 12.2135,  9.1761,  2.0000,  1.6765,\n",
       "        10.1472, 11.1472,  2.0000,  1.2061, 10.3148, 10.9722,  2.0000,  1.2352,\n",
       "         9.2182, 12.2183,  2.0000,  1.1056, 10.1472, 11.1472,  2.0000,  1.2061,\n",
       "         9.0081, 12.5041,  2.0000,  1.1089,  9.2182, 12.2183,  2.0000,  1.1056,\n",
       "         8.9549, 12.5902,  2.0000,  1.1180,  9.0081, 12.5041,  2.0000,  1.1089,\n",
       "         8.1180, 14.2639,  2.0000,  1.1180,  8.9549, 12.5902,  2.0000,  1.1180,\n",
       "         8.0557, 14.5279,  2.0000,  1.0557,  8.1180, 14.2639,  2.0000,  1.1180,\n",
       "         0.0000,  0.0000,  0.0000,  0.0000,  0.0000,  0.0000,  0.0000,  0.0000,\n",
       "         0.0000,  0.0000,  0.0000,  0.0000,  0.0000,  0.0000,  0.0000,  0.0000,\n",
       "         0.0000,  0.0000,  0.0000,  0.0000,  0.0000,  0.0000,  0.0000,  0.0000,\n",
       "         0.0000,  0.0000,  0.0000,  0.0000,  0.0000,  0.0000,  0.0000,  0.0000,\n",
       "         0.0000,  0.0000,  0.0000,  0.0000,  0.0000,  0.0000,  0.0000,  0.0000,\n",
       "         0.0000,  0.0000,  0.0000,  0.0000,  0.0000,  0.0000,  0.0000,  0.0000,\n",
       "         0.0000,  0.0000,  0.0000,  0.0000,  0.0000,  0.0000,  0.0000,  0.0000,\n",
       "         0.0000,  0.0000,  0.0000,  0.0000,  0.0000,  0.0000,  0.0000,  0.0000,\n",
       "         0.0000,  0.0000,  0.0000,  0.0000,  0.0000,  0.0000,  0.0000,  0.0000,\n",
       "         0.0000,  0.0000,  0.0000,  0.0000,  0.0000,  0.0000,  0.0000,  0.0000,\n",
       "         0.0000,  0.0000,  0.0000,  0.0000,  0.0000,  0.0000,  0.0000,  0.0000,\n",
       "         0.0000,  0.0000,  0.0000,  0.0000,  0.0000,  0.0000,  0.0000,  0.0000,\n",
       "         0.0000,  0.0000,  0.0000,  0.0000,  0.0000,  0.0000,  0.0000,  0.0000,\n",
       "         0.0000,  0.0000,  0.0000,  0.0000,  0.0000,  0.0000,  0.0000,  0.0000,\n",
       "         0.0000,  0.0000,  0.0000,  0.0000,  0.0000,  0.0000,  0.0000,  0.0000,\n",
       "         0.0000,  0.0000,  0.0000,  0.0000,  0.0000,  0.0000,  0.0000,  0.0000,\n",
       "         0.0000,  0.0000,  0.0000,  0.0000,  0.0000,  0.0000,  0.0000,  0.0000,\n",
       "         0.0000,  0.0000,  0.0000,  0.0000,  0.0000,  0.0000,  0.0000,  0.0000,\n",
       "         0.0000,  0.0000,  0.0000,  0.0000,  0.0000,  0.0000,  0.0000,  0.0000,\n",
       "         0.0000,  0.0000,  0.0000,  0.0000,  0.0000,  0.0000,  0.0000,  0.0000,\n",
       "         0.0000,  0.0000,  0.0000,  0.0000,  0.0000,  0.0000,  0.0000,  0.0000,\n",
       "         0.0000,  0.0000,  0.0000,  0.0000,  0.0000,  0.0000,  0.0000,  0.0000,\n",
       "         0.0000,  0.0000,  0.0000,  0.0000,  0.0000,  0.0000,  0.0000,  0.0000,\n",
       "         0.0000,  0.0000,  0.0000,  0.0000,  0.0000,  0.0000,  0.0000,  0.0000,\n",
       "         0.0000,  0.0000,  0.0000,  0.0000,  0.0000,  0.0000,  0.0000,  0.0000,\n",
       "         0.0000,  0.0000,  0.0000,  0.0000,  0.0000,  0.0000,  0.0000,  0.0000,\n",
       "         0.0000,  0.0000,  0.0000,  0.0000,  0.0000,  0.0000,  0.0000,  0.0000,\n",
       "         0.0000,  0.0000,  0.0000,  0.0000,  0.0000,  0.0000,  0.0000,  0.0000,\n",
       "         0.0000,  0.0000,  0.0000,  0.0000,  0.0000,  0.0000,  0.0000,  0.0000,\n",
       "         0.0000,  0.0000,  0.0000,  0.0000,  0.0000,  0.0000,  0.0000,  0.0000,\n",
       "         0.0000,  0.0000,  0.0000,  0.0000,  0.0000,  0.0000,  0.0000,  0.0000,\n",
       "         0.0000,  0.0000,  0.0000,  0.0000,  0.0000,  0.0000,  0.0000,  0.0000,\n",
       "         0.0000,  0.0000,  0.0000,  0.0000,  0.0000,  0.0000,  0.0000,  0.0000,\n",
       "         0.0000,  0.0000,  0.0000,  0.0000,  0.0000,  0.0000,  0.0000,  0.0000,\n",
       "         0.0000,  0.0000,  0.0000,  0.0000,  0.0000,  0.0000,  0.0000,  0.0000,\n",
       "         0.0000,  0.0000,  0.0000,  0.0000,  0.0000,  0.0000,  0.0000,  0.0000,\n",
       "         0.0000,  0.0000,  0.0000,  0.0000,  0.0000,  0.0000,  0.0000,  0.0000,\n",
       "         0.0000,  0.0000,  0.0000,  0.0000,  0.0000,  0.0000,  0.0000,  0.0000,\n",
       "         0.0000,  0.0000,  0.0000,  0.0000,  0.0000,  0.0000,  0.0000,  0.0000,\n",
       "         0.0000,  0.0000,  0.0000,  0.0000,  0.0000,  0.0000,  0.0000,  0.0000,\n",
       "         0.0000,  0.0000,  0.0000,  0.0000,  0.0000,  0.0000,  0.0000,  0.0000,\n",
       "         0.0000,  0.0000,  0.0000,  0.0000,  0.0000,  0.0000,  0.0000,  0.0000,\n",
       "         0.0000,  0.0000,  0.0000,  0.0000,  0.0000,  0.0000,  0.0000,  0.0000],\n",
       "       dtype=torch.float64)"
      ]
     },
     "execution_count": 43,
     "metadata": {},
     "output_type": "execute_result"
    }
   ],
   "source": [
    "torch.tensor(skeleton_train[0]).double()"
   ]
  }
 ],
 "metadata": {
  "kernelspec": {
   "display_name": "Python 3",
   "language": "python",
   "name": "python3"
  },
  "language_info": {
   "codemirror_mode": {
    "name": "ipython",
    "version": 3
   },
   "file_extension": ".py",
   "mimetype": "text/x-python",
   "name": "python",
   "nbconvert_exporter": "python",
   "pygments_lexer": "ipython3",
   "version": "3.7.6"
  }
 },
 "nbformat": 4,
 "nbformat_minor": 2
}
