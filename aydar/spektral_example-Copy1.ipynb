{
 "cells": [
  {
   "cell_type": "code",
   "execution_count": 1,
   "metadata": {},
   "outputs": [],
   "source": [
    "import pandas as pd\n",
    "import numpy as np\n",
    "import matplotlib.pyplot as plt"
   ]
  },
  {
   "cell_type": "code",
   "execution_count": 1,
   "metadata": {},
   "outputs": [],
   "source": [
    "from torch_spline_conv import SplineConv"
   ]
  },
  {
   "cell_type": "code",
   "execution_count": null,
   "metadata": {},
   "outputs": [],
   "source": []
  },
  {
   "cell_type": "code",
   "execution_count": 6,
   "metadata": {},
   "outputs": [],
   "source": [
    "X_train = np.load(\"skel_features/mnist/save/X_train.npy\", allow_pickle=True)\n",
    "X_test = np.load(\"skel_features/mnist/save/X_test.npy\", allow_pickle=True)\n",
    "y_train = np.load(\"skel_features/mnist/save/y_train.npy\", allow_pickle=True)\n",
    "y_test = np.load(\"skel_features/mnist/save/y_test.npy\", allow_pickle=True)\n",
    "skeleton_train = np.load(\"skel_features/mnist/save/skeleton_train.npy\", allow_pickle=True)\n",
    "skeleton_test = np.load(\"skel_features/mnist/save/skeleton_test.npy\", allow_pickle=True)\n",
    "\n",
    "max_len = np.max([x.shape[0] for x in np.hstack([skeleton_train, skeleton_test])])\n",
    "\n",
    "for i in range(len(skeleton_train)):\n",
    "    tmp = np.zeros((max_len))\n",
    "    tmp[:len(skeleton_train[i])] = skeleton_train[i]\n",
    "    skeleton_train[i] = tmp\n",
    "    \n",
    "for i in range(len(skeleton_test)):\n",
    "    tmp = np.zeros((max_len))\n",
    "    tmp[:len(skeleton_test[i])] = skeleton_test[i]\n",
    "    skeleton_test[i] = tmp\n",
    "    \n",
    "X_train = np.vstack(X_train).reshape(60000,28,28,1)\n",
    "X_test = np.vstack(X_test).reshape(10000,28,28,1)\n",
    "y_train = keras.utils.to_categorical(y_train)\n",
    "y_test = keras.utils.to_categorical(y_test)\n",
    "skeleton_train = np.vstack(skeleton_train)\n",
    "skeleton_test = np.vstack(skeleton_test)"
   ]
  },
  {
   "cell_type": "code",
   "execution_count": 52,
   "metadata": {},
   "outputs": [],
   "source": [
    "# Load data\n",
    "X_train, y_train, X_val, y_val, X_test, y_test, adj = mnist.load_data()\n",
    "X_train, X_val, X_test = X_train[..., None], X_val[..., None], X_test[..., None]\n",
    "N = X_train.shape[-2]      # Number of nodes in the graphs\n",
    "F = X_train.shape[-1]      # Node features dimensionality\n",
    "n_out = 10  # Dimension of the target"
   ]
  },
  {
   "cell_type": "code",
   "execution_count": 60,
   "metadata": {},
   "outputs": [
    {
     "data": {
      "text/plain": [
       "(50000, 784, 1)"
      ]
     },
     "execution_count": 60,
     "metadata": {},
     "output_type": "execute_result"
    }
   ],
   "source": [
    "X_train.shape"
   ]
  },
  {
   "cell_type": "code",
   "execution_count": 61,
   "metadata": {},
   "outputs": [
    {
     "data": {
      "text/plain": [
       "<matplotlib.image.AxesImage at 0x1c49c9a810>"
      ]
     },
     "execution_count": 61,
     "metadata": {},
     "output_type": "execute_result"
    },
    {
     "data": {
      "image/png": "[encoded data removed]",
      "text/plain": [
       "<Figure size 432x288 with 1 Axes>"
      ]
     },
     "metadata": {
      "needs_background": "light"
     },
     "output_type": "display_data"
    }
   ],
   "source": [
    "plt.imshow(X_train[0].reshape(28,28))"
   ]
  }
 ],
 "metadata": {
  "kernelspec": {
   "display_name": "Python 3",
   "language": "python",
   "name": "python3"
  },
  "language_info": {
   "codemirror_mode": {
    "name": "ipython",
    "version": 3
   },
   "file_extension": ".py",
   "mimetype": "text/x-python",
   "name": "python",
   "nbconvert_exporter": "python",
   "pygments_lexer": "ipython3",
   "version": "3.7.3"
  }
 },
 "nbformat": 4,
 "nbformat_minor": 2
}
