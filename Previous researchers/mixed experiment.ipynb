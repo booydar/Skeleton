{
 "cells": [
  {
   "cell_type": "markdown",
   "metadata": {},
   "source": [
    "### Imports"
   ]
  },
  {
   "cell_type": "code",
   "execution_count": 18,
   "metadata": {},
   "outputs": [],
   "source": [
    "from collections import Counter\n",
    "import keras\n",
    "from keras.datasets import mnist\n",
    "from keras.models import Sequential, load_model, Model\n",
    "from keras.layers import Dense, Dropout, Flatten, BatchNormalization\n",
    "from keras.layers import Conv2D, MaxPooling2D\n",
    "from keras.layers import Activation, Input\n",
    "from keras import backend as K\n",
    "from keras.callbacks import EarlyStopping, ModelCheckpoint, ReduceLROnPlateau\n",
    "from keras.utils import plot_model\n",
    "from warnings import filterwarnings\n",
    "\n",
    "import matplotlib.pyplot as plt\n",
    "\n",
    "from sklearn.model_selection import train_test_split\n",
    "\n",
    "import numpy as np\n",
    "import pickle\n",
    "filterwarnings(\"ignore\",category=DeprecationWarning)\n",
    "%matplotlib inline"
   ]
  },
  {
   "cell_type": "markdown",
   "metadata": {},
   "source": [
    "### Loading and preprocessing the data"
   ]
  },
  {
   "cell_type": "code",
   "execution_count": 3,
   "metadata": {},
   "outputs": [],
   "source": [
    "X_train, y_train, X_train_skel_features = None, None, None\n",
    "with open(\"train_info\", \"rb\") as fin:\n",
    "    data = pickle.load(fin)\n",
    "    X_train, y_train, X_train_skel_features = data[\"data\"], data[\"labels\"], data[\"skel_features\"]\n",
    "\n",
    "X_test, y_test, X_test_skel_features = None, None, None\n",
    "with open(\"test_info\", \"rb\") as fin:\n",
    "    data = pickle.load(fin)\n",
    "    X_test, y_test, X_test_skel_features = data[\"data\"], data[\"labels\"], data[\"skel_features\"]"
   ]
  },
  {
   "cell_type": "code",
   "execution_count": 6,
   "metadata": {},
   "outputs": [],
   "source": [
    "x_train = X_train.reshape(X_train.shape[0], 28, 28, 1)\n",
    "x_test = X_test.reshape(X_test.shape[0], 28, 28, 1)\n",
    "input_shape_cnn = (28, 28, 1)\n",
    "\n",
    "x_train = x_train.astype('float32')\n",
    "x_test = x_test.astype('float32')\n",
    "\n",
    "y_train = keras.utils.to_categorical(y_train, 10)\n",
    "y_test = keras.utils.to_categorical(y_test, 10)"
   ]
  },
  {
   "cell_type": "code",
   "execution_count": 10,
   "metadata": {},
   "outputs": [],
   "source": [
    "def features(data):\n",
    "    res = []\n",
    "    \n",
    "    res.append(list(map(len,data)))\n",
    "    res.append(list(map(np.mean,data)))\n",
    "    res.append(list(map(np.sum,data)))\n",
    "    res.append(list(map(np.std,data)))\n",
    "    res.append(list(map(lambda x: np.max(x) - np.min(x),data)))\n",
    "    for i in range(0,110,10):\n",
    "        res.append(list(map(lambda x: np.percentile(x, i),data)))\n",
    "\n",
    "    point = lambda arrays, idx: map(lambda array: array[idx::8], arrays)    \n",
    "    parsed = [list(point(data, i)) for i in range(8)]\n",
    "\n",
    "    for i in range(8):\n",
    "        res.append(list(map(len,parsed[i])))\n",
    "        res.append(list(map(np.mean,parsed[i])))\n",
    "        res.append(list(map(np.sum,parsed[i])))\n",
    "        res.append(list(map(np.std,parsed[i])))\n",
    "        res.append(list(map(lambda x: np.max(x) - np.min(x),parsed[i])))\n",
    "        res.append(list(map(lambda x: Counter(x).most_common()[0][0], parsed[i])))\n",
    "        res.append(list(map(lambda x: Counter(x).most_common()[0][1], parsed[i])))\n",
    "        for j in range(0,110,10):\n",
    "            res.append(list(map(lambda x: np.percentile(x, j),parsed[i])))\n",
    "            \n",
    "    return np.vstack(res).T\n",
    "\n",
    "x_train_skel_features = features(X_train_skel_features)\n",
    "x_test_skel_features = features(X_test_skel_features)\n",
    "input_dim_skelet = (x_train_skel_features.shape[1],)"
   ]
  },
  {
   "cell_type": "markdown",
   "metadata": {},
   "source": [
    "### f1 score"
   ]
  },
  {
   "cell_type": "code",
   "execution_count": 11,
   "metadata": {},
   "outputs": [],
   "source": [
    "def f1(y_true, y_pred):\n",
    "    def recall(y_true, y_pred):\n",
    "        true_positives = K.sum(K.round(K.clip(y_true * y_pred, 0, 1)))\n",
    "        possible_positives = K.sum(K.round(K.clip(y_true, 0, 1)))\n",
    "        recall = true_positives / (possible_positives + K.epsilon())\n",
    "        return recall\n",
    "\n",
    "    def precision(y_true, y_pred):\n",
    "        true_positives = K.sum(K.round(K.clip(y_true * y_pred, 0, 1)))\n",
    "        predicted_positives = K.sum(K.round(K.clip(y_pred, 0, 1)))\n",
    "        precision = true_positives / (predicted_positives + K.epsilon())\n",
    "        return precision\n",
    "    \n",
    "    precision = precision(y_true, y_pred)\n",
    "    recall = recall(y_true, y_pred)\n",
    "    return 2*((precision*recall)/(precision+recall+K.epsilon()))"
   ]
  },
  {
   "cell_type": "markdown",
   "metadata": {},
   "source": [
    "### Generate combined CNN"
   ]
  },
  {
   "cell_type": "code",
   "execution_count": 12,
   "metadata": {},
   "outputs": [
    {
     "name": "stdout",
     "output_type": "stream",
     "text": [
      "__________________________________________________________________________________________________\n",
      "Layer (type)                    Output Shape         Param #     Connected to                     \n",
      "==================================================================================================\n",
      "input_1 (InputLayer)            (None, 28, 28, 1)    0                                            \n",
      "__________________________________________________________________________________________________\n",
      "conv2d_1 (Conv2D)               (None, 26, 26, 30)   300         input_1[0][0]                    \n",
      "__________________________________________________________________________________________________\n",
      "conv2d_2 (Conv2D)               (None, 24, 24, 60)   16260       conv2d_1[0][0]                   \n",
      "__________________________________________________________________________________________________\n",
      "max_pooling2d_1 (MaxPooling2D)  (None, 12, 12, 60)   0           conv2d_2[0][0]                   \n",
      "__________________________________________________________________________________________________\n",
      "batch_normalization_1 (BatchNor (None, 12, 12, 60)   240         max_pooling2d_1[0][0]            \n",
      "__________________________________________________________________________________________________\n",
      "activation_1 (Activation)       (None, 12, 12, 60)   0           batch_normalization_1[0][0]      \n",
      "__________________________________________________________________________________________________\n",
      "dropout_1 (Dropout)             (None, 12, 12, 60)   0           activation_1[0][0]               \n",
      "__________________________________________________________________________________________________\n",
      "max_pooling2d_2 (MaxPooling2D)  (None, 6, 6, 60)     0           dropout_1[0][0]                  \n",
      "__________________________________________________________________________________________________\n",
      "flatten_1 (Flatten)             (None, 2160)         0           max_pooling2d_2[0][0]            \n",
      "__________________________________________________________________________________________________\n",
      "input_2 (InputLayer)            (None, 88)           0                                            \n",
      "__________________________________________________________________________________________________\n",
      "dense_1 (Dense)                 (None, 128)          276608      flatten_1[0][0]                  \n",
      "__________________________________________________________________________________________________\n",
      "dense_2 (Dense)                 (None, 32)           2848        input_2[0][0]                    \n",
      "__________________________________________________________________________________________________\n",
      "concatenate_1 (Concatenate)     (None, 160)          0           dense_1[0][0]                    \n",
      "                                                                 dense_2[0][0]                    \n",
      "__________________________________________________________________________________________________\n",
      "dropout_2 (Dropout)             (None, 160)          0           concatenate_1[0][0]              \n",
      "__________________________________________________________________________________________________\n",
      "dense_3 (Dense)                 (None, 10)           1610        dropout_2[0][0]                  \n",
      "==================================================================================================\n",
      "Total params: 297,866\n",
      "Trainable params: 297,746\n",
      "Non-trainable params: 120\n",
      "__________________________________________________________________________________________________\n"
     ]
    }
   ],
   "source": [
    "model_cnn_input = Input((28, 28, 1))\n",
    "cnn = Conv2D(30, (3, 3), activation='relu', input_shape = input_shape_cnn)(model_cnn_input)\n",
    "cnn = Conv2D(60, (3, 3), activation='relu')(cnn)\n",
    "cnn = MaxPooling2D(pool_size=(2, 2))(cnn)\n",
    "cnn = BatchNormalization()(cnn) \n",
    "cnn = Activation('relu')(cnn)\n",
    "cnn = Dropout(0.2)(cnn)\n",
    "cnn = MaxPooling2D(pool_size=(2, 2))(cnn)\n",
    "\n",
    "cnn = Flatten()(cnn)\n",
    "cnn = Dense(128, activation='relu')(cnn)\n",
    "\n",
    "features_input = Input(input_dim_skelet)\n",
    "features_layer1 = Dense(32, input_dim=input_dim_skelet)(features_input)\n",
    "\n",
    "merged = Concatenate()([cnn, features_layer1])\n",
    "layer1 = Dropout(0.5)(merged)\n",
    "output_layer = Dense(num_classes, activation='softmax')(layer1)\n",
    "\n",
    "model = Model(inputs=[model_cnn_input, features_input], outputs=output_layer)\n",
    "model.compile(loss=\"categorical_crossentropy\",\n",
    "              optimizer=\"adam\",\n",
    "              metrics=['accuracy', f1])\n",
    "model.summary()"
   ]
  },
  {
   "cell_type": "markdown",
   "metadata": {},
   "source": [
    "### Fit"
   ]
  },
  {
   "cell_type": "code",
   "execution_count": 13,
   "metadata": {},
   "outputs": [
    {
     "name": "stdout",
     "output_type": "stream",
     "text": [
      "Train on 60000 samples, validate on 10000 samples\n",
      "Epoch 1/10\n",
      "60000/60000 [==============================] - 205s 3ms/step - loss: 12.5560 - acc: 0.2136 - f1: 0.2136 - val_loss: 10.9606 - val_acc: 0.3125 - val_f1: 0.3125\n",
      "Epoch 2/10\n",
      "60000/60000 [==============================] - 189s 3ms/step - loss: 8.1263 - acc: 0.4835 - f1: 0.4835 - val_loss: 4.5726 - val_acc: 0.7049 - val_f1: 0.7049\n",
      "Epoch 3/10\n",
      "60000/60000 [==============================] - 172s 3ms/step - loss: 3.1569 - acc: 0.7867 - f1: 0.7867 - val_loss: 0.7439 - val_acc: 0.9374 - val_f1: 0.9375\n",
      "Epoch 4/10\n",
      "60000/60000 [==============================] - 179s 3ms/step - loss: 0.8216 - acc: 0.9315 - f1: 0.9315 - val_loss: 0.3387 - val_acc: 0.9669 - val_f1: 0.9669\n",
      "Epoch 5/10\n",
      "60000/60000 [==============================] - 193s 3ms/step - loss: 0.5504 - acc: 0.9497 - f1: 0.9498 - val_loss: 0.2665 - val_acc: 0.9746 - val_f1: 0.9746\n",
      "Epoch 6/10\n",
      "60000/60000 [==============================] - 188s 3ms/step - loss: 0.4179 - acc: 0.9583 - f1: 0.9584 - val_loss: 0.1900 - val_acc: 0.9788 - val_f1: 0.9788\n",
      "Epoch 7/10\n",
      "60000/60000 [==============================] - 213s 4ms/step - loss: 0.3440 - acc: 0.9625 - f1: 0.9625 - val_loss: 0.1773 - val_acc: 0.9804 - val_f1: 0.9803\n",
      "Epoch 8/10\n",
      "60000/60000 [==============================] - 189s 3ms/step - loss: 0.2693 - acc: 0.9662 - f1: 0.9662 - val_loss: 0.1236 - val_acc: 0.9837 - val_f1: 0.9837\n",
      "Epoch 9/10\n",
      "60000/60000 [==============================] - 192s 3ms/step - loss: 0.2333 - acc: 0.9682 - f1: 0.9684 - val_loss: 0.1231 - val_acc: 0.9828 - val_f1: 0.9827\n",
      "Epoch 10/10\n",
      "60000/60000 [==============================] - 186s 3ms/step - loss: 0.1921 - acc: 0.9706 - f1: 0.9707 - val_loss: 0.0916 - val_acc: 0.9849 - val_f1: 0.9851\n"
     ]
    }
   ],
   "source": [
    "history = model.fit([x_train, x_train_skel_features], y_train,\n",
    "          batch_size = 512,\n",
    "          epochs = 10,\n",
    "          verbose = 1,\n",
    "          validation_data=([x_test, x_test_skel_features], y_test))"
   ]
  },
  {
   "cell_type": "markdown",
   "metadata": {},
   "source": [
    "### Score"
   ]
  },
  {
   "cell_type": "code",
   "execution_count": 16,
   "metadata": {},
   "outputs": [
    {
     "name": "stdout",
     "output_type": "stream",
     "text": [
      "Loss:  0.09156\n",
      "Accuracy: 98.49%\n",
      "F1_score: 0.98510\n"
     ]
    }
   ],
   "source": [
    "score = model.evaluate([x_test, x_test_skel_features], y_test, verbose=0)\n",
    "\n",
    "print(f'Loss: {score[0]: 0.5f}')\n",
    "print(f'Accuracy:{score[1]*100: 0.2f}%')\n",
    "print(f'F1_score:{score[2]: 0.5f}')"
   ]
  },
  {
   "cell_type": "code",
   "execution_count": 19,
   "metadata": {},
   "outputs": [
    {
     "data": {
      "text/plain": [
       "<matplotlib.legend.Legend at 0x7f697b3e9e80>"
      ]
     },
     "execution_count": 19,
     "metadata": {},
     "output_type": "execute_result"
    },
    {
     "data": {
      "image/png": "[encoded data removed]",
      "text/plain": [
       "<Figure size 1080x360 with 3 Axes>"
      ]
     },
     "metadata": {},
     "output_type": "display_data"
    }
   ],
   "source": [
    "fig, ax = plt.subplots(1, 3, figsize=(15,5))\n",
    "ax[0].set_title('Loss')\n",
    "ax[0].plot(history.epoch, history.history[\"loss\"], label=\"Train Loss\")\n",
    "ax[0].plot(history.epoch, history.history[\"val_loss\"], label=\"Validation Loss\")\n",
    "ax[1].set_title('Accuracy')\n",
    "ax[1].plot(history.epoch, history.history[\"acc\"], label=\"Train accuracy\")\n",
    "ax[1].plot(history.epoch, history.history[\"val_acc\"], label=\"Validation accuracy\")\n",
    "ax[2].set_title('F1_score')\n",
    "ax[2].plot(history.epoch, history.history[\"f1\"], label=\"Train F1_score\")\n",
    "ax[2].plot(history.epoch, history.history[\"val_f1\"], label=\"Validation F1_score\")\n",
    "ax[0].legend()\n",
    "ax[1].legend()\n",
    "ax[2].legend()"
   ]
  },
  {
   "cell_type": "code",
   "execution_count": null,
   "metadata": {},
   "outputs": [],
   "source": []
  }
 ],
 "metadata": {
  "kernelspec": {
   "display_name": "Python 3",
   "language": "python",
   "name": "python3"
  },
  "language_info": {
   "codemirror_mode": {
    "name": "ipython",
    "version": 3
   },
   "file_extension": ".py",
   "mimetype": "text/x-python",
   "name": "python",
   "nbconvert_exporter": "python",
   "pygments_lexer": "ipython3",
   "version": "3.7.3"
  }
 },
 "nbformat": 4,
 "nbformat_minor": 2
}
