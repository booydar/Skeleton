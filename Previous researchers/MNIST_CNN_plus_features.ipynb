{
 "cells": [
  {
   "cell_type": "markdown",
   "metadata": {},
   "source": [
    "## Imports"
   ]
  },
  {
   "cell_type": "code",
   "execution_count": 1,
   "metadata": {},
   "outputs": [
    {
     "name": "stderr",
     "output_type": "stream",
     "text": [
      "Using TensorFlow backend.\n"
     ]
    }
   ],
   "source": [
    "import os\n",
    "os.environ[\"CUDA_DEVICE_ORDER\"]=\"PCI_BUS_ID\"\n",
    "os.environ[\"CUDA_VISIBLE_DEVICES\"]=\"4\"\n",
    "\n",
    "import keras\n",
    "from keras.models import Sequential,Model, load_model\n",
    "from keras.layers import Dense, Dropout, Flatten, Conv2D, MaxPooling2D, Concatenate, Input\n",
    "from keras.callbacks import EarlyStopping, ModelCheckpoint, ReduceLROnPlateau, TensorBoard\n",
    "from keras import backend as K\n",
    "\n",
    "import pickle\n",
    "import numpy as np\n",
    "import matplotlib.pyplot as plt\n",
    "%matplotlib inline\n",
    "\n",
    "batch_size = 512\n",
    "num_classes = 10\n",
    "img_rows, img_cols = 28, 28"
   ]
  },
  {
   "cell_type": "markdown",
   "metadata": {},
   "source": [
    "## Load data"
   ]
  },
  {
   "cell_type": "code",
   "execution_count": 3,
   "metadata": {},
   "outputs": [],
   "source": [
    "X_train, y_train = None, None\n",
    "with open(\"../data/train_info\", \"rb\") as fin:\n",
    "    data = pickle.load(fin)\n",
    "    X_train, y_train = data[\"data\"], data[\"labels\"]\n",
    "\n",
    "X_test, y_test = None, None\n",
    "with open(\"../data/test_info\", \"rb\") as fin:\n",
    "    data = pickle.load(fin)\n",
    "    X_test, y_test = data[\"data\"], data[\"labels\"]"
   ]
  },
  {
   "cell_type": "code",
   "execution_count": 4,
   "metadata": {},
   "outputs": [
    {
     "ename": "FileNotFoundError",
     "evalue": "[Errno 2] No such file or directory: 'data_train.npy'",
     "output_type": "error",
     "traceback": [
      "\u001b[0;31m---------------------------------------------------------------------------\u001b[0m",
      "\u001b[0;31mFileNotFoundError\u001b[0m                         Traceback (most recent call last)",
      "\u001b[0;32m<ipython-input-4-bfc6cc4bf394>\u001b[0m in \u001b[0;36m<module>\u001b[0;34m\u001b[0m\n\u001b[0;32m----> 1\u001b[0;31m \u001b[0mx_train_skel_features\u001b[0m \u001b[0;34m=\u001b[0m \u001b[0mnp\u001b[0m\u001b[0;34m.\u001b[0m\u001b[0mload\u001b[0m\u001b[0;34m(\u001b[0m\u001b[0;34m'data_train.npy'\u001b[0m\u001b[0;34m)\u001b[0m\u001b[0;34m\u001b[0m\u001b[0;34m\u001b[0m\u001b[0m\n\u001b[0m\u001b[1;32m      2\u001b[0m \u001b[0mx_test_skel_features\u001b[0m \u001b[0;34m=\u001b[0m \u001b[0mnp\u001b[0m\u001b[0;34m.\u001b[0m\u001b[0mload\u001b[0m\u001b[0;34m(\u001b[0m\u001b[0;34m'data_test.npy'\u001b[0m\u001b[0;34m)\u001b[0m\u001b[0;34m\u001b[0m\u001b[0;34m\u001b[0m\u001b[0m\n\u001b[1;32m      3\u001b[0m \u001b[0;34m\u001b[0m\u001b[0m\n\u001b[1;32m      4\u001b[0m \u001b[0minput_dim_skelet\u001b[0m \u001b[0;34m=\u001b[0m \u001b[0;34m(\u001b[0m\u001b[0mx_train_skel_features\u001b[0m\u001b[0;34m.\u001b[0m\u001b[0mshape\u001b[0m\u001b[0;34m[\u001b[0m\u001b[0;36m1\u001b[0m\u001b[0;34m]\u001b[0m\u001b[0;34m,\u001b[0m\u001b[0;34m)\u001b[0m\u001b[0;34m\u001b[0m\u001b[0;34m\u001b[0m\u001b[0m\n",
      "\u001b[0;32m~/anaconda3/lib/python3.7/site-packages/numpy/lib/npyio.py\u001b[0m in \u001b[0;36mload\u001b[0;34m(file, mmap_mode, allow_pickle, fix_imports, encoding)\u001b[0m\n\u001b[1;32m    426\u001b[0m         \u001b[0mown_fid\u001b[0m \u001b[0;34m=\u001b[0m \u001b[0;32mFalse\u001b[0m\u001b[0;34m\u001b[0m\u001b[0;34m\u001b[0m\u001b[0m\n\u001b[1;32m    427\u001b[0m     \u001b[0;32melse\u001b[0m\u001b[0;34m:\u001b[0m\u001b[0;34m\u001b[0m\u001b[0;34m\u001b[0m\u001b[0m\n\u001b[0;32m--> 428\u001b[0;31m         \u001b[0mfid\u001b[0m \u001b[0;34m=\u001b[0m \u001b[0mopen\u001b[0m\u001b[0;34m(\u001b[0m\u001b[0mos_fspath\u001b[0m\u001b[0;34m(\u001b[0m\u001b[0mfile\u001b[0m\u001b[0;34m)\u001b[0m\u001b[0;34m,\u001b[0m \u001b[0;34m\"rb\"\u001b[0m\u001b[0;34m)\u001b[0m\u001b[0;34m\u001b[0m\u001b[0;34m\u001b[0m\u001b[0m\n\u001b[0m\u001b[1;32m    429\u001b[0m         \u001b[0mown_fid\u001b[0m \u001b[0;34m=\u001b[0m \u001b[0;32mTrue\u001b[0m\u001b[0;34m\u001b[0m\u001b[0;34m\u001b[0m\u001b[0m\n\u001b[1;32m    430\u001b[0m \u001b[0;34m\u001b[0m\u001b[0m\n",
      "\u001b[0;31mFileNotFoundError\u001b[0m: [Errno 2] No such file or directory: 'data_train.npy'"
     ]
    }
   ],
   "source": [
    "x_train_skel_features = np.load('data_train.npy')\n",
    "x_test_skel_features = np.load('data_test.npy')\n",
    "\n",
    "input_dim_skelet = (x_train_skel_features.shape[1],)"
   ]
  },
  {
   "cell_type": "markdown",
   "metadata": {},
   "source": [
    "## Create data for network"
   ]
  },
  {
   "cell_type": "code",
   "execution_count": 4,
   "metadata": {},
   "outputs": [],
   "source": [
    "x_train = X_train.reshape(X_train.shape[0], img_rows, img_cols, 1)\n",
    "x_test = X_test.reshape(X_test.shape[0], img_rows, img_cols, 1)\n",
    "input_shape_cnn = (img_rows, img_cols, 1)\n",
    "\n",
    "x_train = x_train.astype('float32')\n",
    "x_test = x_test.astype('float32')\n",
    "\n",
    "y_train = keras.utils.to_categorical(y_train, num_classes)\n",
    "y_test = keras.utils.to_categorical(y_test, num_classes)"
   ]
  },
  {
   "cell_type": "markdown",
   "metadata": {},
   "source": [
    "## Create f1 score"
   ]
  },
  {
   "cell_type": "code",
   "execution_count": 5,
   "metadata": {},
   "outputs": [],
   "source": [
    "def f1(y_true, y_pred):\n",
    "    def recall(y_true, y_pred):\n",
    "        true_positives = K.sum(K.round(K.clip(y_true * y_pred, 0, 1)))\n",
    "        possible_positives = K.sum(K.round(K.clip(y_true, 0, 1)))\n",
    "        recall = true_positives / (possible_positives + K.epsilon())\n",
    "        return recall\n",
    "\n",
    "    def precision(y_true, y_pred):\n",
    "        true_positives = K.sum(K.round(K.clip(y_true * y_pred, 0, 1)))\n",
    "        predicted_positives = K.sum(K.round(K.clip(y_pred, 0, 1)))\n",
    "        precision = true_positives / (predicted_positives + K.epsilon())\n",
    "        return precision\n",
    "    \n",
    "    precision = precision(y_true, y_pred)\n",
    "    recall = recall(y_true, y_pred)\n",
    "    return 2*((precision*recall)/(precision+recall+K.epsilon()))"
   ]
  },
  {
   "cell_type": "markdown",
   "metadata": {},
   "source": [
    "## Generate model"
   ]
  },
  {
   "cell_type": "code",
   "execution_count": 6,
   "metadata": {
    "scrolled": false
   },
   "outputs": [
    {
     "name": "stdout",
     "output_type": "stream",
     "text": [
      "__________________________________________________________________________________________________\n",
      "Layer (type)                    Output Shape         Param #     Connected to                     \n",
      "==================================================================================================\n",
      "input_1 (InputLayer)            (None, 28, 28, 1)    0                                            \n",
      "__________________________________________________________________________________________________\n",
      "conv2d_1 (Conv2D)               (None, 26, 26, 32)   320         input_1[0][0]                    \n",
      "__________________________________________________________________________________________________\n",
      "conv2d_2 (Conv2D)               (None, 24, 24, 64)   18496       conv2d_1[0][0]                   \n",
      "__________________________________________________________________________________________________\n",
      "max_pooling2d_1 (MaxPooling2D)  (None, 12, 12, 64)   0           conv2d_2[0][0]                   \n",
      "__________________________________________________________________________________________________\n",
      "dropout_1 (Dropout)             (None, 12, 12, 64)   0           max_pooling2d_1[0][0]            \n",
      "__________________________________________________________________________________________________\n",
      "flatten_1 (Flatten)             (None, 9216)         0           dropout_1[0][0]                  \n",
      "__________________________________________________________________________________________________\n",
      "input_2 (InputLayer)            (None, 160)          0                                            \n",
      "__________________________________________________________________________________________________\n",
      "dense_1 (Dense)                 (None, 128)          1179776     flatten_1[0][0]                  \n",
      "__________________________________________________________________________________________________\n",
      "dense_2 (Dense)                 (None, 32)           5152        input_2[0][0]                    \n",
      "__________________________________________________________________________________________________\n",
      "concatenate_1 (Concatenate)     (None, 160)          0           dense_1[0][0]                    \n",
      "                                                                 dense_2[0][0]                    \n",
      "__________________________________________________________________________________________________\n",
      "dropout_2 (Dropout)             (None, 160)          0           concatenate_1[0][0]              \n",
      "__________________________________________________________________________________________________\n",
      "dense_3 (Dense)                 (None, 10)           1610        dropout_2[0][0]                  \n",
      "==================================================================================================\n",
      "Total params: 1,205,354\n",
      "Trainable params: 1,205,354\n",
      "Non-trainable params: 0\n",
      "__________________________________________________________________________________________________\n"
     ]
    }
   ],
   "source": [
    "model_cnn_input = Input(input_shape_cnn)\n",
    "cnn_layer1 = Conv2D(32, (3, 3),\n",
    "             activation='relu',\n",
    "             input_shape=input_shape_cnn)(model_cnn_input)\n",
    "\n",
    "cnn_layer2 = Conv2D(64, (3, 3), activation='relu')(cnn_layer1)\n",
    "cnn_layer3 = MaxPooling2D(pool_size=(2, 2))(cnn_layer2)\n",
    "cnn_layer4 = Dropout(0.25)(cnn_layer3)\n",
    "cnn_layer5 = Flatten()(cnn_layer4)\n",
    "cnn_layer6 = Dense(128, activation='relu')(cnn_layer5)\n",
    "\n",
    "features_input = Input(input_dim_skelet)\n",
    "features_layer1 = Dense(32, input_dim=input_dim_skelet)(features_input)\n",
    "\n",
    "merged = Concatenate()([cnn_layer6, features_layer1])\n",
    "layer1 = Dropout(0.5)(merged)\n",
    "output_layer = Dense(num_classes, activation='softmax')(layer1)\n",
    "\n",
    "model = Model(inputs=[model_cnn_input, features_input], outputs=output_layer)\n",
    "model.compile(loss=\"categorical_crossentropy\",\n",
    "              optimizer=\"adam\",\n",
    "              metrics=['accuracy', f1])\n",
    "model.summary()"
   ]
  },
  {
   "cell_type": "markdown",
   "metadata": {},
   "source": [
    "## Create callbacks"
   ]
  },
  {
   "cell_type": "code",
   "execution_count": 7,
   "metadata": {},
   "outputs": [],
   "source": [
    "early_stopping = EarlyStopping(monitor='val_loss', mode='min', patience=5, verbose=1)\n",
    "model_checkpoint = ModelCheckpoint('model_cnn_plus_features.h5', monitor='val_loss', mode='min', save_best_only=True, verbose=1)\n",
    "reduce_lr = ReduceLROnPlateau(monitor='val_loss', mode='min', factor=0.5, patience=3, verbose=1)\n",
    "tbCallBack = TensorBoard(log_dir='./Graph', histogram_freq=0, write_graph=True, write_images=True)\n",
    "\n",
    "callbacks=[early_stopping, model_checkpoint, reduce_lr, tbCallBack]"
   ]
  },
  {
   "cell_type": "markdown",
   "metadata": {},
   "source": [
    "## Fit model"
   ]
  },
  {
   "cell_type": "code",
   "execution_count": 8,
   "metadata": {
    "scrolled": false
   },
   "outputs": [
    {
     "name": "stdout",
     "output_type": "stream",
     "text": [
      "Train on 60000 samples, validate on 10000 samples\n",
      "Epoch 1/10000\n",
      "60000/60000 [==============================] - 5s 78us/step - loss: 11.0892 - acc: 0.3026 - f1: 0.3026 - val_loss: 7.0200 - val_acc: 0.5602 - val_f1: 0.5602\n",
      "\n",
      "Epoch 00001: val_loss improved from inf to 7.01998, saving model to best_model.h5\n",
      "Epoch 2/10000\n",
      "60000/60000 [==============================] - 3s 45us/step - loss: 7.3606 - acc: 0.5386 - f1: 0.5386 - val_loss: 5.9796 - val_acc: 0.6255 - val_f1: 0.6255\n",
      "\n",
      "Epoch 00002: val_loss improved from 7.01998 to 5.97962, saving model to best_model.h5\n",
      "Epoch 3/10000\n",
      "60000/60000 [==============================] - 3s 44us/step - loss: 6.2503 - acc: 0.6060 - f1: 0.6060 - val_loss: 4.0188 - val_acc: 0.7427 - val_f1: 0.7427\n",
      "\n",
      "Epoch 00003: val_loss improved from 5.97962 to 4.01883, saving model to best_model.h5\n",
      "Epoch 4/10000\n",
      "60000/60000 [==============================] - 3s 46us/step - loss: 4.5579 - acc: 0.7082 - f1: 0.7083 - val_loss: 3.2228 - val_acc: 0.7925 - val_f1: 0.7925\n",
      "\n",
      "Epoch 00004: val_loss improved from 4.01883 to 3.22279, saving model to best_model.h5\n",
      "Epoch 5/10000\n",
      "60000/60000 [==============================] - 3s 45us/step - loss: 3.6098 - acc: 0.7622 - f1: 0.7623 - val_loss: 2.3535 - val_acc: 0.8386 - val_f1: 0.8386\n",
      "\n",
      "Epoch 00005: val_loss improved from 3.22279 to 2.35353, saving model to best_model.h5\n",
      "Epoch 6/10000\n",
      "60000/60000 [==============================] - 3s 44us/step - loss: 1.8621 - acc: 0.8585 - f1: 0.8586 - val_loss: 0.7437 - val_acc: 0.9358 - val_f1: 0.9359\n",
      "\n",
      "Epoch 00006: val_loss improved from 2.35353 to 0.74370, saving model to best_model.h5\n",
      "Epoch 7/10000\n",
      "60000/60000 [==============================] - 3s 49us/step - loss: 1.0385 - acc: 0.8976 - f1: 0.8977 - val_loss: 0.4096 - val_acc: 0.9496 - val_f1: 0.9497\n",
      "\n",
      "Epoch 00007: val_loss improved from 0.74370 to 0.40956, saving model to best_model.h5\n",
      "Epoch 8/10000\n",
      "60000/60000 [==============================] - 3s 49us/step - loss: 0.5650 - acc: 0.9148 - f1: 0.9154 - val_loss: 0.2473 - val_acc: 0.9594 - val_f1: 0.9595\n",
      "\n",
      "Epoch 00008: val_loss improved from 0.40956 to 0.24728, saving model to best_model.h5\n",
      "Epoch 9/10000\n",
      "60000/60000 [==============================] - 3s 50us/step - loss: 0.3723 - acc: 0.9264 - f1: 0.9272 - val_loss: 0.1549 - val_acc: 0.9635 - val_f1: 0.9639\n",
      "\n",
      "Epoch 00009: val_loss improved from 0.24728 to 0.15491, saving model to best_model.h5\n",
      "Epoch 10/10000\n",
      "60000/60000 [==============================] - 3s 49us/step - loss: 0.2868 - acc: 0.9326 - f1: 0.9338 - val_loss: 0.1165 - val_acc: 0.9704 - val_f1: 0.9708\n",
      "\n",
      "Epoch 00010: val_loss improved from 0.15491 to 0.11652, saving model to best_model.h5\n",
      "Epoch 11/10000\n",
      "60000/60000 [==============================] - 3s 45us/step - loss: 0.2264 - acc: 0.9414 - f1: 0.9425 - val_loss: 0.1028 - val_acc: 0.9729 - val_f1: 0.9733\n",
      "\n",
      "Epoch 00011: val_loss improved from 0.11652 to 0.10277, saving model to best_model.h5\n",
      "Epoch 12/10000\n",
      "60000/60000 [==============================] - 3s 49us/step - loss: 0.1859 - acc: 0.9485 - f1: 0.9491 - val_loss: 0.0932 - val_acc: 0.9744 - val_f1: 0.9749\n",
      "\n",
      "Epoch 00012: val_loss improved from 0.10277 to 0.09317, saving model to best_model.h5\n",
      "Epoch 13/10000\n",
      "60000/60000 [==============================] - 3s 49us/step - loss: 0.1624 - acc: 0.9540 - f1: 0.9549 - val_loss: 0.0841 - val_acc: 0.9761 - val_f1: 0.9762\n",
      "\n",
      "Epoch 00013: val_loss improved from 0.09317 to 0.08405, saving model to best_model.h5\n",
      "Epoch 14/10000\n",
      "60000/60000 [==============================] - 3s 49us/step - loss: 0.1471 - acc: 0.9581 - f1: 0.9589 - val_loss: 0.0798 - val_acc: 0.9766 - val_f1: 0.9770\n",
      "\n",
      "Epoch 00014: val_loss improved from 0.08405 to 0.07983, saving model to best_model.h5\n",
      "Epoch 15/10000\n",
      "60000/60000 [==============================] - 3s 48us/step - loss: 0.1363 - acc: 0.9596 - f1: 0.9602 - val_loss: 0.0743 - val_acc: 0.9764 - val_f1: 0.9774\n",
      "\n",
      "Epoch 00015: val_loss improved from 0.07983 to 0.07430, saving model to best_model.h5\n",
      "Epoch 16/10000\n",
      "60000/60000 [==============================] - 3s 46us/step - loss: 0.1239 - acc: 0.9626 - f1: 0.9634 - val_loss: 0.0679 - val_acc: 0.9802 - val_f1: 0.9803\n",
      "\n",
      "Epoch 00016: val_loss improved from 0.07430 to 0.06787, saving model to best_model.h5\n",
      "Epoch 17/10000\n",
      "60000/60000 [==============================] - 3s 44us/step - loss: 0.1220 - acc: 0.9635 - f1: 0.9642 - val_loss: 0.0714 - val_acc: 0.9791 - val_f1: 0.9798\n",
      "\n",
      "Epoch 00017: val_loss did not improve from 0.06787\n",
      "Epoch 18/10000\n",
      "60000/60000 [==============================] - 3s 44us/step - loss: 0.1068 - acc: 0.9673 - f1: 0.9680 - val_loss: 0.0681 - val_acc: 0.9797 - val_f1: 0.9798\n",
      "\n",
      "Epoch 00018: val_loss did not improve from 0.06787\n",
      "Epoch 19/10000\n",
      "60000/60000 [==============================] - 3s 47us/step - loss: 0.1027 - acc: 0.9689 - f1: 0.9694 - val_loss: 0.0594 - val_acc: 0.9826 - val_f1: 0.9824\n",
      "\n",
      "Epoch 00019: val_loss improved from 0.06787 to 0.05943, saving model to best_model.h5\n",
      "Epoch 20/10000\n",
      "60000/60000 [==============================] - 3s 44us/step - loss: 0.0994 - acc: 0.9697 - f1: 0.9699 - val_loss: 0.0581 - val_acc: 0.9820 - val_f1: 0.9825\n",
      "\n",
      "Epoch 00020: val_loss improved from 0.05943 to 0.05811, saving model to best_model.h5\n",
      "Epoch 21/10000\n",
      "60000/60000 [==============================] - 3s 44us/step - loss: 0.0957 - acc: 0.9707 - f1: 0.9709 - val_loss: 0.0580 - val_acc: 0.9823 - val_f1: 0.9825\n",
      "\n",
      "Epoch 00021: val_loss improved from 0.05811 to 0.05797, saving model to best_model.h5\n",
      "Epoch 22/10000\n",
      "60000/60000 [==============================] - 3s 48us/step - loss: 0.0894 - acc: 0.9729 - f1: 0.9730 - val_loss: 0.0557 - val_acc: 0.9833 - val_f1: 0.9837\n",
      "\n",
      "Epoch 00022: val_loss improved from 0.05797 to 0.05571, saving model to best_model.h5\n",
      "Epoch 23/10000\n",
      "60000/60000 [==============================] - 3s 44us/step - loss: 0.0877 - acc: 0.9726 - f1: 0.9728 - val_loss: 0.0531 - val_acc: 0.9840 - val_f1: 0.9843\n",
      "\n",
      "Epoch 00023: val_loss improved from 0.05571 to 0.05315, saving model to best_model.h5\n",
      "Epoch 24/10000\n",
      "60000/60000 [==============================] - 3s 44us/step - loss: 0.0817 - acc: 0.9743 - f1: 0.9746 - val_loss: 0.0539 - val_acc: 0.9846 - val_f1: 0.9846\n",
      "\n",
      "Epoch 00024: val_loss did not improve from 0.05315\n",
      "Epoch 25/10000\n",
      "60000/60000 [==============================] - 3s 47us/step - loss: 0.0799 - acc: 0.9749 - f1: 0.9752 - val_loss: 0.0544 - val_acc: 0.9845 - val_f1: 0.9844\n",
      "\n",
      "Epoch 00025: val_loss did not improve from 0.05315\n",
      "Epoch 26/10000\n",
      "60000/60000 [==============================] - 3s 46us/step - loss: 0.0766 - acc: 0.9761 - f1: 0.9766 - val_loss: 0.0516 - val_acc: 0.9840 - val_f1: 0.9844\n",
      "\n",
      "Epoch 00026: val_loss improved from 0.05315 to 0.05164, saving model to best_model.h5\n",
      "Epoch 27/10000\n",
      "60000/60000 [==============================] - 3s 44us/step - loss: 0.0736 - acc: 0.9767 - f1: 0.9769 - val_loss: 0.0523 - val_acc: 0.9841 - val_f1: 0.9849\n",
      "\n",
      "Epoch 00027: val_loss did not improve from 0.05164\n",
      "Epoch 28/10000\n",
      "60000/60000 [==============================] - 3s 45us/step - loss: 0.0740 - acc: 0.9768 - f1: 0.9771 - val_loss: 0.0531 - val_acc: 0.9852 - val_f1: 0.9851\n",
      "\n",
      "Epoch 00028: val_loss did not improve from 0.05164\n",
      "Epoch 29/10000\n",
      "60000/60000 [==============================] - 3s 44us/step - loss: 0.0718 - acc: 0.9776 - f1: 0.9780 - val_loss: 0.0548 - val_acc: 0.9844 - val_f1: 0.9848\n",
      "\n",
      "Epoch 00029: val_loss did not improve from 0.05164\n",
      "\n",
      "Epoch 00029: ReduceLROnPlateau reducing learning rate to 0.0005000000237487257.\n",
      "Epoch 30/10000\n",
      "60000/60000 [==============================] - 3s 47us/step - loss: 0.0625 - acc: 0.9796 - f1: 0.9800 - val_loss: 0.0477 - val_acc: 0.9857 - val_f1: 0.9861\n",
      "\n",
      "Epoch 00030: val_loss improved from 0.05164 to 0.04771, saving model to best_model.h5\n",
      "Epoch 31/10000\n",
      "60000/60000 [==============================] - 3s 42us/step - loss: 0.0584 - acc: 0.9818 - f1: 0.9822 - val_loss: 0.0500 - val_acc: 0.9853 - val_f1: 0.9855\n",
      "\n",
      "Epoch 00031: val_loss did not improve from 0.04771\n",
      "Epoch 32/10000\n",
      "60000/60000 [==============================] - 2s 41us/step - loss: 0.0594 - acc: 0.9815 - f1: 0.9814 - val_loss: 0.0473 - val_acc: 0.9863 - val_f1: 0.9866\n",
      "\n",
      "Epoch 00032: val_loss improved from 0.04771 to 0.04728, saving model to best_model.h5\n",
      "Epoch 33/10000\n",
      "60000/60000 [==============================] - 3s 45us/step - loss: 0.0564 - acc: 0.9820 - f1: 0.9820 - val_loss: 0.0473 - val_acc: 0.9862 - val_f1: 0.9863\n",
      "\n",
      "Epoch 00033: val_loss did not improve from 0.04728\n",
      "Epoch 34/10000\n",
      "60000/60000 [==============================] - 3s 44us/step - loss: 0.0568 - acc: 0.9815 - f1: 0.9817 - val_loss: 0.0485 - val_acc: 0.9861 - val_f1: 0.9861\n",
      "\n",
      "Epoch 00034: val_loss did not improve from 0.04728\n",
      "Epoch 35/10000\n",
      "60000/60000 [==============================] - 3s 44us/step - loss: 0.0547 - acc: 0.9826 - f1: 0.9827 - val_loss: 0.0513 - val_acc: 0.9855 - val_f1: 0.9858\n",
      "\n",
      "Epoch 00035: val_loss did not improve from 0.04728\n",
      "\n",
      "Epoch 00035: ReduceLROnPlateau reducing learning rate to 0.0002500000118743628.\n",
      "Epoch 36/10000\n",
      "60000/60000 [==============================] - 3s 44us/step - loss: 0.0526 - acc: 0.9828 - f1: 0.9830 - val_loss: 0.0464 - val_acc: 0.9863 - val_f1: 0.9863\n",
      "\n",
      "Epoch 00036: val_loss improved from 0.04728 to 0.04638, saving model to best_model.h5\n",
      "Epoch 37/10000\n",
      "60000/60000 [==============================] - 3s 42us/step - loss: 0.0512 - acc: 0.9841 - f1: 0.9843 - val_loss: 0.0482 - val_acc: 0.9862 - val_f1: 0.9866\n",
      "\n",
      "Epoch 00037: val_loss did not improve from 0.04638\n",
      "Epoch 38/10000\n",
      "60000/60000 [==============================] - 2s 41us/step - loss: 0.0502 - acc: 0.9842 - f1: 0.9842 - val_loss: 0.0484 - val_acc: 0.9854 - val_f1: 0.9858\n",
      "\n",
      "Epoch 00038: val_loss did not improve from 0.04638\n",
      "Epoch 39/10000\n",
      "60000/60000 [==============================] - 3s 42us/step - loss: 0.0494 - acc: 0.9833 - f1: 0.9835 - val_loss: 0.0482 - val_acc: 0.9859 - val_f1: 0.9861\n",
      "\n",
      "Epoch 00039: val_loss did not improve from 0.04638\n",
      "\n",
      "Epoch 00039: ReduceLROnPlateau reducing learning rate to 0.0001250000059371814.\n",
      "Epoch 40/10000\n",
      "60000/60000 [==============================] - 3s 45us/step - loss: 0.0499 - acc: 0.9835 - f1: 0.9835 - val_loss: 0.0466 - val_acc: 0.9865 - val_f1: 0.9866\n",
      "\n",
      "Epoch 00040: val_loss did not improve from 0.04638\n",
      "Epoch 41/10000\n",
      "60000/60000 [==============================] - 3s 44us/step - loss: 0.0462 - acc: 0.9859 - f1: 0.9860 - val_loss: 0.0459 - val_acc: 0.9864 - val_f1: 0.9868\n",
      "\n",
      "Epoch 00041: val_loss improved from 0.04638 to 0.04592, saving model to best_model.h5\n",
      "Epoch 42/10000\n",
      "60000/60000 [==============================] - 3s 47us/step - loss: 0.0470 - acc: 0.9852 - f1: 0.9851 - val_loss: 0.0469 - val_acc: 0.9867 - val_f1: 0.9867\n",
      "\n",
      "Epoch 00042: val_loss did not improve from 0.04592\n",
      "Epoch 43/10000\n",
      "60000/60000 [==============================] - 2s 41us/step - loss: 0.0473 - acc: 0.9851 - f1: 0.9852 - val_loss: 0.0467 - val_acc: 0.9862 - val_f1: 0.9865\n",
      "\n",
      "Epoch 00043: val_loss did not improve from 0.04592\n",
      "Epoch 44/10000\n",
      "60000/60000 [==============================] - 3s 42us/step - loss: 0.0456 - acc: 0.9853 - f1: 0.9855 - val_loss: 0.0476 - val_acc: 0.9865 - val_f1: 0.9863\n",
      "\n",
      "Epoch 00044: val_loss did not improve from 0.04592\n",
      "\n",
      "Epoch 00044: ReduceLROnPlateau reducing learning rate to 6.25000029685907e-05.\n",
      "Epoch 45/10000\n",
      "60000/60000 [==============================] - 3s 43us/step - loss: 0.0462 - acc: 0.9853 - f1: 0.9854 - val_loss: 0.0462 - val_acc: 0.9867 - val_f1: 0.9868\n",
      "\n",
      "Epoch 00045: val_loss did not improve from 0.04592\n",
      "Epoch 46/10000\n",
      "60000/60000 [==============================] - 3s 43us/step - loss: 0.0455 - acc: 0.9858 - f1: 0.9858 - val_loss: 0.0466 - val_acc: 0.9866 - val_f1: 0.9867\n",
      "\n",
      "Epoch 00046: val_loss did not improve from 0.04592\n",
      "Epoch 00046: early stopping\n"
     ]
    }
   ],
   "source": [
    "history = model.fit([x_train, x_train_skel_features], y_train,\n",
    "          batch_size=batch_size,\n",
    "          epochs=10000,\n",
    "          callbacks=callbacks,\n",
    "          verbose=1,\n",
    "          validation_data=([x_test, x_test_skel_features], y_test))"
   ]
  },
  {
   "cell_type": "code",
   "execution_count": 9,
   "metadata": {},
   "outputs": [
    {
     "data": {
      "text/plain": [
       "<matplotlib.legend.Legend at 0x7faf540ec358>"
      ]
     },
     "execution_count": 9,
     "metadata": {},
     "output_type": "execute_result"
    },
    {
     "data": {
      "image/png": "[encoded data removed]",
      "text/plain": [
       "<Figure size 1080x360 with 3 Axes>"
      ]
     },
     "metadata": {},
     "output_type": "display_data"
    }
   ],
   "source": [
    "fig, ax = plt.subplots(1, 3, figsize=(15,5))\n",
    "ax[0].set_title('Loss')\n",
    "ax[0].plot(history.epoch, history.history[\"loss\"], label=\"Train Loss\")\n",
    "ax[0].plot(history.epoch, history.history[\"val_loss\"], label=\"Validation Loss\")\n",
    "ax[1].set_title('Accuracy')\n",
    "ax[1].plot(history.epoch, history.history[\"acc\"], label=\"Train accuracy\")\n",
    "ax[1].plot(history.epoch, history.history[\"val_acc\"], label=\"Validation accuracy\")\n",
    "ax[2].set_title('F1_score')\n",
    "ax[2].plot(history.epoch, history.history[\"f1\"], label=\"Train F1_score\")\n",
    "ax[2].plot(history.epoch, history.history[\"val_f1\"], label=\"Validation F1_score\")\n",
    "ax[0].legend()\n",
    "ax[1].legend()\n",
    "ax[2].legend()"
   ]
  },
  {
   "cell_type": "markdown",
   "metadata": {},
   "source": [
    "## Score model"
   ]
  },
  {
   "cell_type": "code",
   "execution_count": 10,
   "metadata": {},
   "outputs": [
    {
     "name": "stdout",
     "output_type": "stream",
     "text": [
      "Test loss: 0.04591501131900768\n",
      "Test accuracy: 0.9864\n",
      "Test f1_score: 0.9867530937194824\n"
     ]
    }
   ],
   "source": [
    "model = load_model('model_cnn_plus_features.h5', custom_objects={'f1': f1})\n",
    "score = model.evaluate([x_test, x_test_skel_features], y_test, verbose=0)\n",
    "print('Test loss:', score[0])\n",
    "print('Test accuracy:', score[1])\n",
    "print('Test f1_score:', score[2])"
   ]
  }
 ],
 "metadata": {
  "kernelspec": {
   "display_name": "Python 3",
   "language": "python",
   "name": "python3"
  },
  "language_info": {
   "codemirror_mode": {
    "name": "ipython",
    "version": 3
   },
   "file_extension": ".py",
   "mimetype": "text/x-python",
   "name": "python",
   "nbconvert_exporter": "python",
   "pygments_lexer": "ipython3",
   "version": "3.7.3"
  }
 },
 "nbformat": 4,
 "nbformat_minor": 2
}
