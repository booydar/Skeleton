{
 "cells": [
  {
   "cell_type": "markdown",
   "metadata": {
    "colab_type": "text",
    "id": "9bxbo5tLR3GS"
   },
   "source": [
    "##Imports"
   ]
  },
  {
   "cell_type": "code",
   "execution_count": 2,
   "metadata": {
    "colab": {
     "base_uri": "https://localhost:8080/",
     "height": 34
    },
    "colab_type": "code",
    "id": "bNUfQlyZR1o3",
    "outputId": "2d21afec-c7d7-4c86-fff3-8bc69abc2b86"
   },
   "outputs": [
    {
     "name": "stderr",
     "output_type": "stream",
     "text": [
      "Using TensorFlow backend.\n"
     ]
    }
   ],
   "source": [
    "import keras\n",
    "from keras.datasets import mnist\n",
    "from keras.models import Sequential, load_model, Model\n",
    "from keras.layers import Dense, Dropout, Flatten, BatchNormalization\n",
    "from keras.layers import Conv2D, MaxPooling2D\n",
    "from keras.layers import Activation, Input\n",
    "from keras.layers import Concatenate\n",
    "from keras import backend as K\n",
    "from keras.callbacks import EarlyStopping, ModelCheckpoint, ReduceLROnPlateau\n",
    "from keras.utils import plot_model\n",
    "\n",
    "from sklearn.model_selection import train_test_split\n",
    "\n",
    "import numpy as np\n",
    "import pickle"
   ]
  },
  {
   "cell_type": "markdown",
   "metadata": {
    "colab_type": "text",
    "id": "-Ww59NHhSC3E"
   },
   "source": [
    "## Load, split and preprocess the dataset"
   ]
  },
  {
   "cell_type": "code",
   "execution_count": 3,
   "metadata": {
    "colab": {
     "base_uri": "https://localhost:8080/",
     "height": 51
    },
    "colab_type": "code",
    "id": "kiBhp0uFyHSH",
    "outputId": "728fcb9b-8b96-4a84-d33c-c8203f5b119b"
   },
   "outputs": [
    {
     "name": "stdout",
     "output_type": "stream",
     "text": [
      "Drive already mounted at /content/gdrive; to attempt to forcibly remount, call drive.mount(\"/content/gdrive\", force_remount=True).\n",
      "/content/gdrive/My Drive/Colab Notebooks\n"
     ]
    }
   ],
   "source": [
    "# mount Google Drive\n",
    "from google.colab import drive\n",
    "drive.mount('/content/gdrive')\n",
    "\n",
    "%cd /content/gdrive/My\\ Drive/Colab\\ Notebooks"
   ]
  },
  {
   "cell_type": "code",
   "execution_count": 0,
   "metadata": {
    "colab": {},
    "colab_type": "code",
    "id": "3ZLMDGKOxvBm"
   },
   "outputs": [],
   "source": [
    "X_train, y_train, X_train_skel_features = None, None, None\n",
    "with open(\"data/train_info\", \"rb\") as fin:\n",
    "    data = pickle.load(fin)\n",
    "    X_train, y_train, X_train_skel_features = data[\"data\"], data[\"labels\"], data[\"skel_features\"]\n",
    "\n",
    "X_test, y_test, X_test_skel_features = None, None, None\n",
    "with open(\"data/test_info\", \"rb\") as fin:\n",
    "    data = pickle.load(fin)\n",
    "    X_test, y_test, X_test_skel_features = data[\"data\"], data[\"labels\"], data[\"skel_features\"]"
   ]
  },
  {
   "cell_type": "code",
   "execution_count": 0,
   "metadata": {
    "colab": {},
    "colab_type": "code",
    "id": "YAARL76v1l5J"
   },
   "outputs": [],
   "source": [
    "num_classes = 10\n",
    "img_rows, img_cols = 28, 28\n",
    "x_train = X_train.reshape(X_train.shape[0], img_rows, img_cols, 1)\n",
    "x_test = X_test.reshape(X_test.shape[0], img_rows, img_cols, 1)\n",
    "input_shape = (img_rows, img_cols, 1)\n",
    "\n",
    "x_train = x_train.astype('float32')\n",
    "x_test = x_test.astype('float32')\n",
    "\n",
    "y_train = keras.utils.to_categorical(y_train, num_classes)\n",
    "y_test = keras.utils.to_categorical(y_test, num_classes)"
   ]
  },
  {
   "cell_type": "code",
   "execution_count": 0,
   "metadata": {
    "colab": {},
    "colab_type": "code",
    "id": "FTw7yEyawhR8"
   },
   "outputs": [],
   "source": [
    "X_train_skel_features = np.load('data_train.npy') \n",
    "X_test_skel_features = np.load('data_test.npy') \n",
    "\n",
    "input_dim_skelet = (X_train_skel_features.shape[1],)"
   ]
  },
  {
   "cell_type": "markdown",
   "metadata": {
    "colab_type": "text",
    "id": "Yuc40KVXegA4"
   },
   "source": [
    "## Define F1 score"
   ]
  },
  {
   "cell_type": "code",
   "execution_count": 0,
   "metadata": {
    "colab": {},
    "colab_type": "code",
    "id": "BdHdqSagefWe"
   },
   "outputs": [],
   "source": [
    "def f1(y_true, y_pred):\n",
    "    def recall(y_true, y_pred):\n",
    "        true_positives = K.sum(K.round(K.clip(y_true * y_pred, 0, 1)))\n",
    "        possible_positives = K.sum(K.round(K.clip(y_true, 0, 1)))\n",
    "        recall = true_positives / (possible_positives + K.epsilon())\n",
    "        return recall\n",
    "\n",
    "    def precision(y_true, y_pred):\n",
    "        true_positives = K.sum(K.round(K.clip(y_true * y_pred, 0, 1)))\n",
    "        predicted_positives = K.sum(K.round(K.clip(y_pred, 0, 1)))\n",
    "        precision = true_positives / (predicted_positives + K.epsilon())\n",
    "        return precision\n",
    "    \n",
    "    precision = precision(y_true, y_pred)\n",
    "    recall = recall(y_true, y_pred)\n",
    "    return 2*((precision*recall)/(precision+recall+K.epsilon()))"
   ]
  },
  {
   "cell_type": "markdown",
   "metadata": {
    "colab_type": "text",
    "id": "FqFgAE56q0Lq"
   },
   "source": [
    "## Define combined CNN with auxillary features gained from gradient boosting"
   ]
  },
  {
   "cell_type": "code",
   "execution_count": 8,
   "metadata": {
    "colab": {
     "base_uri": "https://localhost:8080/",
     "height": 780
    },
    "colab_type": "code",
    "id": "abIsUjUZziy1",
    "outputId": "fcaf6a9e-6cbf-4495-bb63-dde6c1a2dd4a"
   },
   "outputs": [
    {
     "name": "stdout",
     "output_type": "stream",
     "text": [
      "__________________________________________________________________________________________________\n",
      "Layer (type)                    Output Shape         Param #     Connected to                     \n",
      "==================================================================================================\n",
      "input_1 (InputLayer)            (None, 28, 28, 1)    0                                            \n",
      "__________________________________________________________________________________________________\n",
      "conv2d_1 (Conv2D)               (None, 26, 26, 32)   320         input_1[0][0]                    \n",
      "__________________________________________________________________________________________________\n",
      "conv2d_2 (Conv2D)               (None, 24, 24, 64)   18496       conv2d_1[0][0]                   \n",
      "__________________________________________________________________________________________________\n",
      "batch_normalization_1 (BatchNor (None, 24, 24, 64)   256         conv2d_2[0][0]                   \n",
      "__________________________________________________________________________________________________\n",
      "activation_1 (Activation)       (None, 24, 24, 64)   0           batch_normalization_1[0][0]      \n",
      "__________________________________________________________________________________________________\n",
      "dropout_1 (Dropout)             (None, 24, 24, 64)   0           activation_1[0][0]               \n",
      "__________________________________________________________________________________________________\n",
      "max_pooling2d_1 (MaxPooling2D)  (None, 12, 12, 64)   0           dropout_1[0][0]                  \n",
      "__________________________________________________________________________________________________\n",
      "conv2d_3 (Conv2D)               (None, 10, 10, 128)  73856       max_pooling2d_1[0][0]            \n",
      "__________________________________________________________________________________________________\n",
      "batch_normalization_2 (BatchNor (None, 10, 10, 128)  512         conv2d_3[0][0]                   \n",
      "__________________________________________________________________________________________________\n",
      "activation_2 (Activation)       (None, 10, 10, 128)  0           batch_normalization_2[0][0]      \n",
      "__________________________________________________________________________________________________\n",
      "dropout_2 (Dropout)             (None, 10, 10, 128)  0           activation_2[0][0]               \n",
      "__________________________________________________________________________________________________\n",
      "max_pooling2d_2 (MaxPooling2D)  (None, 5, 5, 128)    0           dropout_2[0][0]                  \n",
      "__________________________________________________________________________________________________\n",
      "input_2 (InputLayer)            (None, 160)          0                                            \n",
      "__________________________________________________________________________________________________\n",
      "flatten_1 (Flatten)             (None, 3200)         0           max_pooling2d_2[0][0]            \n",
      "__________________________________________________________________________________________________\n",
      "dense_1 (Dense)                 (None, 32)           5152        input_2[0][0]                    \n",
      "__________________________________________________________________________________________________\n",
      "concatenate_1 (Concatenate)     (None, 3232)         0           flatten_1[0][0]                  \n",
      "                                                                 dense_1[0][0]                    \n",
      "__________________________________________________________________________________________________\n",
      "dropout_3 (Dropout)             (None, 3232)         0           concatenate_1[0][0]              \n",
      "__________________________________________________________________________________________________\n",
      "dense_2 (Dense)                 (None, 10)           32330       dropout_3[0][0]                  \n",
      "==================================================================================================\n",
      "Total params: 130,922\n",
      "Trainable params: 130,538\n",
      "Non-trainable params: 384\n",
      "__________________________________________________________________________________________________\n"
     ]
    }
   ],
   "source": [
    "input_shape_cnn = (28, 28, 1)\n",
    "model_cnn_input = Input(input_shape_cnn) \n",
    "cnn_layer = Conv2D(32, (3, 3), activation='relu', \n",
    "input_shape=input_shape_cnn)(model_cnn_input) \n",
    "\n",
    "cnn_layer = Conv2D(64, (3, 3))(cnn_layer) \n",
    "cnn_layer = BatchNormalization()(cnn_layer) \n",
    "cnn_layer = Activation('relu')(cnn_layer) \n",
    "cnn_layer = Dropout(0.3)(cnn_layer) \n",
    "cnn_layer = MaxPooling2D(pool_size=(2, 2))(cnn_layer)\n",
    "\n",
    "cnn_layer = Conv2D(128, (3, 3))(cnn_layer) \n",
    "cnn_layer = BatchNormalization()(cnn_layer) \n",
    "cnn_layer = Activation('relu')(cnn_layer) \n",
    "cnn_layer = Dropout(0.3)(cnn_layer) \n",
    "cnn_layer = MaxPooling2D(pool_size=(2, 2))(cnn_layer)                        \n",
    "cnn_layer = Flatten()(cnn_layer) \n",
    "\n",
    "input_dim_skelet = (160, )\n",
    "features_input = Input(input_dim_skelet) \n",
    "features_layer1 = Dense(32, input_dim=input_dim_skelet)(features_input) \n",
    "\n",
    "merged = Concatenate()([cnn_layer, features_layer1]) \n",
    "layer1 = Dropout(0.5)(merged) \n",
    "output_layer = Dense(10, activation='softmax')(layer1) \n",
    "\n",
    "model = Model(inputs=[model_cnn_input, features_input], outputs=output_layer) \n",
    "model.compile(loss=\"categorical_crossentropy\", \n",
    "optimizer=\"adam\", \n",
    "metrics=['accuracy', f1]) \n",
    "model.summary()"
   ]
  },
  {
   "cell_type": "markdown",
   "metadata": {
    "colab_type": "text",
    "id": "4Syt_ueGSphA"
   },
   "source": [
    "##Training process"
   ]
  },
  {
   "cell_type": "code",
   "execution_count": 9,
   "metadata": {
    "colab": {
     "base_uri": "https://localhost:8080/",
     "height": 1265
    },
    "colab_type": "code",
    "id": "edXdVg_dwJ9M",
    "outputId": "80384a10-b7e4-44d6-dbf6-9c003ca4b20e"
   },
   "outputs": [
    {
     "name": "stdout",
     "output_type": "stream",
     "text": [
      "Train on 60000 samples, validate on 10000 samples\n",
      "Epoch 1/100\n",
      "60000/60000 [==============================] - 13s 224us/step - loss: 3.5292 - acc: 0.7203 - f1: 0.7205 - val_loss: 0.1495 - val_acc: 0.9589 - val_f1: 0.9591\n",
      "\n",
      "Epoch 00001: val_acc improved from -inf to 0.95890, saving model to best.model\n",
      "Epoch 2/100\n",
      "60000/60000 [==============================] - 11s 189us/step - loss: 0.1888 - acc: 0.9574 - f1: 0.9577 - val_loss: 0.0668 - val_acc: 0.9802 - val_f1: 0.9807\n",
      "\n",
      "Epoch 00002: val_acc improved from 0.95890 to 0.98020, saving model to best.model\n",
      "Epoch 3/100\n",
      "60000/60000 [==============================] - 11s 188us/step - loss: 0.1388 - acc: 0.9663 - f1: 0.9666 - val_loss: 0.0716 - val_acc: 0.9793 - val_f1: 0.9794\n",
      "\n",
      "Epoch 00003: val_acc did not improve from 0.98020\n",
      "Epoch 4/100\n",
      "60000/60000 [==============================] - 11s 188us/step - loss: 0.1130 - acc: 0.9712 - f1: 0.9715 - val_loss: 0.0530 - val_acc: 0.9841 - val_f1: 0.9842\n",
      "\n",
      "Epoch 00004: val_acc improved from 0.98020 to 0.98410, saving model to best.model\n",
      "Epoch 5/100\n",
      "60000/60000 [==============================] - 11s 189us/step - loss: 0.0977 - acc: 0.9743 - f1: 0.9745 - val_loss: 0.0545 - val_acc: 0.9848 - val_f1: 0.9850\n",
      "\n",
      "Epoch 00005: val_acc improved from 0.98410 to 0.98480, saving model to best.model\n",
      "Epoch 6/100\n",
      "60000/60000 [==============================] - 11s 188us/step - loss: 0.0892 - acc: 0.9759 - f1: 0.9761 - val_loss: 0.0485 - val_acc: 0.9863 - val_f1: 0.9864\n",
      "\n",
      "Epoch 00006: val_acc improved from 0.98480 to 0.98630, saving model to best.model\n",
      "Epoch 7/100\n",
      "60000/60000 [==============================] - 11s 189us/step - loss: 0.0765 - acc: 0.9789 - f1: 0.9790 - val_loss: 0.0467 - val_acc: 0.9857 - val_f1: 0.9863\n",
      "\n",
      "Epoch 00007: val_acc did not improve from 0.98630\n",
      "Epoch 8/100\n",
      "60000/60000 [==============================] - 11s 189us/step - loss: 0.0691 - acc: 0.9806 - f1: 0.9807 - val_loss: 0.0456 - val_acc: 0.9856 - val_f1: 0.9859\n",
      "\n",
      "Epoch 00008: val_acc did not improve from 0.98630\n",
      "Epoch 9/100\n",
      "60000/60000 [==============================] - 11s 189us/step - loss: 0.0645 - acc: 0.9813 - f1: 0.9814 - val_loss: 0.0413 - val_acc: 0.9865 - val_f1: 0.9865\n",
      "\n",
      "Epoch 00009: val_acc improved from 0.98630 to 0.98650, saving model to best.model\n",
      "Epoch 10/100\n",
      "60000/60000 [==============================] - 11s 190us/step - loss: 0.0615 - acc: 0.9822 - f1: 0.9822 - val_loss: 0.0431 - val_acc: 0.9857 - val_f1: 0.9863\n",
      "\n",
      "Epoch 00010: val_acc did not improve from 0.98650\n",
      "Epoch 11/100\n",
      "60000/60000 [==============================] - 11s 189us/step - loss: 0.0576 - acc: 0.9826 - f1: 0.9826 - val_loss: 0.0455 - val_acc: 0.9862 - val_f1: 0.9858\n",
      "\n",
      "Epoch 00011: val_acc did not improve from 0.98650\n",
      "Epoch 12/100\n",
      "60000/60000 [==============================] - 11s 189us/step - loss: 0.0520 - acc: 0.9846 - f1: 0.9848 - val_loss: 0.0359 - val_acc: 0.9901 - val_f1: 0.9901\n",
      "\n",
      "Epoch 00012: val_acc improved from 0.98650 to 0.99010, saving model to best.model\n",
      "Epoch 13/100\n",
      "60000/60000 [==============================] - 11s 189us/step - loss: 0.0488 - acc: 0.9848 - f1: 0.9850 - val_loss: 0.0381 - val_acc: 0.9887 - val_f1: 0.9888\n",
      "\n",
      "Epoch 00013: val_acc did not improve from 0.99010\n",
      "Epoch 14/100\n",
      "60000/60000 [==============================] - 11s 189us/step - loss: 0.0476 - acc: 0.9856 - f1: 0.9856 - val_loss: 0.0373 - val_acc: 0.9885 - val_f1: 0.9885\n",
      "\n",
      "Epoch 00014: val_acc did not improve from 0.99010\n",
      "Epoch 15/100\n",
      "60000/60000 [==============================] - 11s 189us/step - loss: 0.0450 - acc: 0.9860 - f1: 0.9862 - val_loss: 0.0380 - val_acc: 0.9892 - val_f1: 0.9889\n",
      "\n",
      "Epoch 00015: val_acc did not improve from 0.99010\n",
      "\n",
      "Epoch 00015: ReduceLROnPlateau reducing learning rate to 0.0007000000332482159.\n",
      "Epoch 16/100\n",
      "60000/60000 [==============================] - 11s 189us/step - loss: 0.0384 - acc: 0.9877 - f1: 0.9877 - val_loss: 0.0370 - val_acc: 0.9887 - val_f1: 0.9890\n",
      "\n",
      "Epoch 00016: val_acc did not improve from 0.99010\n",
      "Epoch 17/100\n",
      "60000/60000 [==============================] - 11s 188us/step - loss: 0.0376 - acc: 0.9880 - f1: 0.9880 - val_loss: 0.0366 - val_acc: 0.9895 - val_f1: 0.9893\n",
      "\n",
      "Epoch 00017: val_acc did not improve from 0.99010\n",
      "Epoch 00017: early stopping\n"
     ]
    }
   ],
   "source": [
    "early_stopping = EarlyStopping(monitor='val_acc', mode='max', patience=5, verbose=1)\n",
    "model_checkpoint = ModelCheckpoint('best.model', monitor='val_acc', mode='max', save_best_only=True, verbose=1)\n",
    "reduce_lr_on_plateau = ReduceLROnPlateau(monitor='val_acc', mode='max', factor=0.7, patience=3, verbose=1)\n",
    "\n",
    "history = model.fit([x_train, X_train_skel_features], y_train,\n",
    "          batch_size=512,\n",
    "          epochs=100,\n",
    "          callbacks=[early_stopping, model_checkpoint, reduce_lr_on_plateau],\n",
    "          verbose=1,\n",
    "          validation_data=([x_test, X_test_skel_features], y_test))"
   ]
  },
  {
   "cell_type": "markdown",
   "metadata": {
    "colab_type": "text",
    "id": "p2-paS945V75"
   },
   "source": [
    "## Error Analysis"
   ]
  },
  {
   "cell_type": "code",
   "execution_count": 11,
   "metadata": {
    "colab": {
     "base_uri": "https://localhost:8080/",
     "height": 353
    },
    "colab_type": "code",
    "id": "qqyBKmub5amq",
    "outputId": "f450bb04-c03b-49b2-ca74-6d67cb6c2b2e"
   },
   "outputs": [
    {
     "data": {
      "text/plain": [
       "<matplotlib.legend.Legend at 0x7fa5331eb588>"
      ]
     },
     "execution_count": 11,
     "metadata": {
      "tags": []
     },
     "output_type": "execute_result"
    },
    {
     "data": {
      "image/png": "[encoded data removed]",
      "text/plain": [
       "<matplotlib.figure.Figure at 0x7fa5332dc128>"
      ]
     },
     "metadata": {
      "tags": []
     },
     "output_type": "display_data"
    }
   ],
   "source": [
    "import matplotlib.pyplot as plt\n",
    "\n",
    "fig, ax = plt.subplots(1, 3, figsize=(15,5))\n",
    "ax[0].set_title('Loss')\n",
    "ax[0].plot(history.epoch, history.history[\"loss\"], label=\"Train Loss\")\n",
    "ax[0].plot(history.epoch, history.history[\"val_loss\"], label=\"Validation Loss\")\n",
    "ax[1].set_title('Accuracy')\n",
    "ax[1].plot(history.epoch, history.history[\"acc\"], label=\"Train accuracy\")\n",
    "ax[1].plot(history.epoch, history.history[\"val_acc\"], label=\"Validation accuracy\")\n",
    "ax[2].set_title('F1_score')\n",
    "ax[2].plot(history.epoch, history.history[\"f1\"], label=\"Train F1_score\")\n",
    "ax[2].plot(history.epoch, history.history[\"val_f1\"], label=\"Validation F1_score\")\n",
    "ax[0].legend()\n",
    "ax[1].legend()\n",
    "ax[2].legend()"
   ]
  },
  {
   "cell_type": "markdown",
   "metadata": {
    "colab_type": "text",
    "id": "02dOMSPPS62A"
   },
   "source": [
    "##Results"
   ]
  },
  {
   "cell_type": "code",
   "execution_count": 13,
   "metadata": {
    "colab": {
     "base_uri": "https://localhost:8080/",
     "height": 69
    },
    "colab_type": "code",
    "id": "g3vL4lJ-SxqZ",
    "outputId": "94eefc86-e5f4-4a4a-ea41-09c204dbc9c0"
   },
   "outputs": [
    {
     "name": "stdout",
     "output_type": "stream",
     "text": [
      "Test loss:  0.03594\n",
      "Test accuracy: 0.99010\n",
      "Test f1_score: 0.99011\n"
     ]
    }
   ],
   "source": [
    "model = load_model('best.model', custom_objects={'f1': f1})\n",
    "score = model.evaluate([x_test, X_test_skel_features], y_test, verbose=0)\n",
    "print(f'Test loss: {score[0]: 0.5f}')\n",
    "print(f'Test accuracy:{score[1]: 0.5f}')\n",
    "print(f'Test f1_score:{score[2]: 0.5f}')"
   ]
  },
  {
   "cell_type": "code",
   "execution_count": 0,
   "metadata": {
    "colab": {},
    "colab_type": "code",
    "id": "ZmCrXOC16wNj"
   },
   "outputs": [],
   "source": []
  }
 ],
 "metadata": {
  "accelerator": "GPU",
  "colab": {
   "collapsed_sections": [],
   "name": "combined_experiment.ipynb",
   "provenance": [],
   "version": "0.3.2"
  },
  "kernelspec": {
   "display_name": "Python 3",
   "language": "python",
   "name": "python3"
  },
  "language_info": {
   "codemirror_mode": {
    "name": "ipython",
    "version": 3
   },
   "file_extension": ".py",
   "mimetype": "text/x-python",
   "name": "python",
   "nbconvert_exporter": "python",
   "pygments_lexer": "ipython3",
   "version": "3.7.3"
  }
 },
 "nbformat": 4,
 "nbformat_minor": 1
}
