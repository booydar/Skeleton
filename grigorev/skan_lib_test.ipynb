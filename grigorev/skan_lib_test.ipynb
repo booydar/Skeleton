{
 "cells": [
  {
   "cell_type": "code",
   "execution_count": 1,
   "metadata": {
    "collapsed": true
   },
   "outputs": [],
   "source": [
    "import numpy as np\n",
    "import pandas as pd\n",
    "import matplotlib.pyplot as plt\n",
    "import matplotlib.image as mpimg\n",
    "import seaborn as sns\n",
    "%matplotlib inline\n",
    "\n",
    "import warnings\n",
    "warnings.simplefilter(\"ignore\")"
   ]
  },
  {
   "cell_type": "code",
   "execution_count": 2,
   "metadata": {
    "collapsed": true
   },
   "outputs": [],
   "source": [
    "image = pd.read_csv('test.csv').ix[0].values.reshape(-1,28,28,1)[0,:,:,0]"
   ]
  },
  {
   "cell_type": "code",
   "execution_count": 3,
   "metadata": {},
   "outputs": [
    {
     "data": {
      "image/png": "[encoded data removed]",
      "text/plain": [
       "<matplotlib.figure.Figure at 0x1067aa0f0>"
      ]
     },
     "metadata": {},
     "output_type": "display_data"
    }
   ],
   "source": [
    "g = plt.imshow(image, cmap='Greys')"
   ]
  },
  {
   "cell_type": "code",
   "execution_count": 4,
   "metadata": {},
   "outputs": [
    {
     "data": {
      "image/png": "[encoded data removed]",
      "text/plain": [
       "<matplotlib.figure.Figure at 0x116532320>"
      ]
     },
     "metadata": {},
     "output_type": "display_data"
    }
   ],
   "source": [
    "from skan.pre import threshold\n",
    "smooth_radius = 2\n",
    "threshold_radius = 1\n",
    "binary0 = threshold(image, sigma=smooth_radius, radius=threshold_radius)\n",
    "\n",
    "fig, ax = plt.subplots()\n",
    "ax.imshow(binary0, cmap='Greys');"
   ]
  },
  {
   "cell_type": "code",
   "execution_count": 5,
   "metadata": {
    "collapsed": true
   },
   "outputs": [],
   "source": [
    "from skimage import morphology\n",
    "skeleton0 = morphology.skeletonize(binary0)"
   ]
  },
  {
   "cell_type": "code",
   "execution_count": 6,
   "metadata": {},
   "outputs": [
    {
     "data": {
      "image/png": "[encoded data removed]",
      "text/plain": [
       "<matplotlib.figure.Figure at 0x11b2474a8>"
      ]
     },
     "metadata": {},
     "output_type": "display_data"
    }
   ],
   "source": [
    "from skan import draw\n",
    "\n",
    "fig, ax = plt.subplots()\n",
    "draw.overlay_skeleton_2d(image, skeleton0, dilate=1, axes=ax);"
   ]
  },
  {
   "cell_type": "code",
   "execution_count": 7,
   "metadata": {
    "collapsed": true
   },
   "outputs": [],
   "source": [
    "from skan import csr\n",
    "\n",
    "pixel_graph, coordinates, degrees = csr.skeleton_to_csgraph(skeleton0)"
   ]
  },
  {
   "cell_type": "code",
   "execution_count": 8,
   "metadata": {},
   "outputs": [
    {
     "data": {
      "text/html": [
       "<div>\n",
       "<style scoped>\n",
       "    .dataframe tbody tr th:only-of-type {\n",
       "        vertical-align: middle;\n",
       "    }\n",
       "\n",
       "    .dataframe tbody tr th {\n",
       "        vertical-align: top;\n",
       "    }\n",
       "\n",
       "    .dataframe thead th {\n",
       "        text-align: right;\n",
       "    }\n",
       "</style>\n",
       "<table border=\"1\" class=\"dataframe\">\n",
       "  <thead>\n",
       "    <tr style=\"text-align: right;\">\n",
       "      <th></th>\n",
       "      <th>skeleton-id</th>\n",
       "      <th>node-id-0</th>\n",
       "      <th>node-id-1</th>\n",
       "      <th>branch-distance</th>\n",
       "      <th>branch-type</th>\n",
       "      <th>img-coord-0-0</th>\n",
       "      <th>img-coord-0-1</th>\n",
       "      <th>img-coord-1-0</th>\n",
       "      <th>img-coord-1-1</th>\n",
       "      <th>coord-0-0</th>\n",
       "      <th>coord-0-1</th>\n",
       "      <th>coord-1-0</th>\n",
       "      <th>coord-1-1</th>\n",
       "      <th>euclidean-distance</th>\n",
       "    </tr>\n",
       "  </thead>\n",
       "  <tbody>\n",
       "    <tr>\n",
       "      <th>0</th>\n",
       "      <td>1</td>\n",
       "      <td>1</td>\n",
       "      <td>16</td>\n",
       "      <td>17.356527</td>\n",
       "      <td>1</td>\n",
       "      <td>6</td>\n",
       "      <td>11</td>\n",
       "      <td>15</td>\n",
       "      <td>18</td>\n",
       "      <td>6.000000</td>\n",
       "      <td>11.000000</td>\n",
       "      <td>15.666667</td>\n",
       "      <td>18.666667</td>\n",
       "      <td>12.337837</td>\n",
       "    </tr>\n",
       "    <tr>\n",
       "      <th>1</th>\n",
       "      <td>1</td>\n",
       "      <td>16</td>\n",
       "      <td>32</td>\n",
       "      <td>14.942314</td>\n",
       "      <td>1</td>\n",
       "      <td>15</td>\n",
       "      <td>18</td>\n",
       "      <td>19</td>\n",
       "      <td>5</td>\n",
       "      <td>15.666667</td>\n",
       "      <td>18.666667</td>\n",
       "      <td>19.000000</td>\n",
       "      <td>5.000000</td>\n",
       "      <td>14.067299</td>\n",
       "    </tr>\n",
       "    <tr>\n",
       "      <th>2</th>\n",
       "      <td>1</td>\n",
       "      <td>16</td>\n",
       "      <td>34</td>\n",
       "      <td>4.714045</td>\n",
       "      <td>1</td>\n",
       "      <td>15</td>\n",
       "      <td>18</td>\n",
       "      <td>19</td>\n",
       "      <td>22</td>\n",
       "      <td>15.666667</td>\n",
       "      <td>18.666667</td>\n",
       "      <td>19.000000</td>\n",
       "      <td>22.000000</td>\n",
       "      <td>4.714045</td>\n",
       "    </tr>\n",
       "  </tbody>\n",
       "</table>\n",
       "</div>"
      ],
      "text/plain": [
       "   skeleton-id  node-id-0  node-id-1  branch-distance  branch-type  \\\n",
       "0            1          1         16        17.356527            1   \n",
       "1            1         16         32        14.942314            1   \n",
       "2            1         16         34         4.714045            1   \n",
       "\n",
       "   img-coord-0-0  img-coord-0-1  img-coord-1-0  img-coord-1-1  coord-0-0  \\\n",
       "0              6             11             15             18   6.000000   \n",
       "1             15             18             19              5  15.666667   \n",
       "2             15             18             19             22  15.666667   \n",
       "\n",
       "   coord-0-1  coord-1-0  coord-1-1  euclidean-distance  \n",
       "0  11.000000  15.666667  18.666667           12.337837  \n",
       "1  18.666667  19.000000   5.000000           14.067299  \n",
       "2  18.666667  19.000000  22.000000            4.714045  "
      ]
     },
     "execution_count": 8,
     "metadata": {},
     "output_type": "execute_result"
    }
   ],
   "source": [
    "branch_data = csr.summarise(skeleton0, spacing=1)\n",
    "branch_data.head()"
   ]
  },
  {
   "cell_type": "code",
   "execution_count": 9,
   "metadata": {},
   "outputs": [
    {
     "data": {
      "image/png": "[encoded data removed]",
      "text/plain": [
       "<matplotlib.figure.Figure at 0x11de99860>"
      ]
     },
     "metadata": {},
     "output_type": "display_data"
    }
   ],
   "source": [
    "g, c, _ = csr.skeleton_to_csgraph(skeleton0)\n",
    "draw.overlay_skeleton_networkx(g, c, image=skeleton0);"
   ]
  },
  {
   "cell_type": "code",
   "execution_count": 10,
   "metadata": {},
   "outputs": [
    {
     "data": {
      "text/html": [
       "<div>\n",
       "<style scoped>\n",
       "    .dataframe tbody tr th:only-of-type {\n",
       "        vertical-align: middle;\n",
       "    }\n",
       "\n",
       "    .dataframe tbody tr th {\n",
       "        vertical-align: top;\n",
       "    }\n",
       "\n",
       "    .dataframe thead th {\n",
       "        text-align: right;\n",
       "    }\n",
       "</style>\n",
       "<table border=\"1\" class=\"dataframe\">\n",
       "  <thead>\n",
       "    <tr style=\"text-align: right;\">\n",
       "      <th></th>\n",
       "      <th>skeleton-id</th>\n",
       "      <th>node-id-0</th>\n",
       "      <th>node-id-1</th>\n",
       "      <th>branch-distance</th>\n",
       "      <th>branch-type</th>\n",
       "      <th>img-coord-0-0</th>\n",
       "      <th>img-coord-0-1</th>\n",
       "      <th>img-coord-1-0</th>\n",
       "      <th>img-coord-1-1</th>\n",
       "      <th>coord-0-0</th>\n",
       "      <th>coord-0-1</th>\n",
       "      <th>coord-1-0</th>\n",
       "      <th>coord-1-1</th>\n",
       "      <th>euclidean-distance</th>\n",
       "    </tr>\n",
       "  </thead>\n",
       "  <tbody>\n",
       "    <tr>\n",
       "      <th>0</th>\n",
       "      <td>1</td>\n",
       "      <td>1</td>\n",
       "      <td>16</td>\n",
       "      <td>17.356527</td>\n",
       "      <td>1</td>\n",
       "      <td>6</td>\n",
       "      <td>11</td>\n",
       "      <td>15</td>\n",
       "      <td>18</td>\n",
       "      <td>6.000000</td>\n",
       "      <td>11.000000</td>\n",
       "      <td>15.666667</td>\n",
       "      <td>18.666667</td>\n",
       "      <td>12.337837</td>\n",
       "    </tr>\n",
       "    <tr>\n",
       "      <th>1</th>\n",
       "      <td>1</td>\n",
       "      <td>16</td>\n",
       "      <td>32</td>\n",
       "      <td>14.942314</td>\n",
       "      <td>1</td>\n",
       "      <td>15</td>\n",
       "      <td>18</td>\n",
       "      <td>19</td>\n",
       "      <td>5</td>\n",
       "      <td>15.666667</td>\n",
       "      <td>18.666667</td>\n",
       "      <td>19.000000</td>\n",
       "      <td>5.000000</td>\n",
       "      <td>14.067299</td>\n",
       "    </tr>\n",
       "    <tr>\n",
       "      <th>2</th>\n",
       "      <td>1</td>\n",
       "      <td>16</td>\n",
       "      <td>34</td>\n",
       "      <td>4.714045</td>\n",
       "      <td>1</td>\n",
       "      <td>15</td>\n",
       "      <td>18</td>\n",
       "      <td>19</td>\n",
       "      <td>22</td>\n",
       "      <td>15.666667</td>\n",
       "      <td>18.666667</td>\n",
       "      <td>19.000000</td>\n",
       "      <td>22.000000</td>\n",
       "      <td>4.714045</td>\n",
       "    </tr>\n",
       "  </tbody>\n",
       "</table>\n",
       "</div>"
      ],
      "text/plain": [
       "   skeleton-id  node-id-0  node-id-1  branch-distance  branch-type  \\\n",
       "0            1          1         16        17.356527            1   \n",
       "1            1         16         32        14.942314            1   \n",
       "2            1         16         34         4.714045            1   \n",
       "\n",
       "   img-coord-0-0  img-coord-0-1  img-coord-1-0  img-coord-1-1  coord-0-0  \\\n",
       "0              6             11             15             18   6.000000   \n",
       "1             15             18             19              5  15.666667   \n",
       "2             15             18             19             22  15.666667   \n",
       "\n",
       "   coord-0-1  coord-1-0  coord-1-1  euclidean-distance  \n",
       "0  11.000000  15.666667  18.666667           12.337837  \n",
       "1  18.666667  19.000000   5.000000           14.067299  \n",
       "2  18.666667  19.000000  22.000000            4.714045  "
      ]
     },
     "execution_count": 10,
     "metadata": {},
     "output_type": "execute_result"
    }
   ],
   "source": [
    "branch_data"
   ]
  },
  {
   "cell_type": "code",
   "execution_count": 11,
   "metadata": {
    "collapsed": true
   },
   "outputs": [],
   "source": [
    "from skimage import data\n",
    "from skimage.util import invert\n",
    "\n",
    "image = invert(data.horse())"
   ]
  },
  {
   "cell_type": "code",
   "execution_count": 12,
   "metadata": {},
   "outputs": [
    {
     "data": {
      "image/png": "[encoded data removed]",
      "text/plain": [
       "<matplotlib.figure.Figure at 0x11df5c588>"
      ]
     },
     "metadata": {},
     "output_type": "display_data"
    }
   ],
   "source": [
    "g = plt.imshow(image, cmap='Greys')"
   ]
  },
  {
   "cell_type": "code",
   "execution_count": 13,
   "metadata": {
    "collapsed": true
   },
   "outputs": [],
   "source": [
    "binary = image\n",
    "skeleton = morphology.skeletonize(binary)"
   ]
  },
  {
   "cell_type": "code",
   "execution_count": 14,
   "metadata": {},
   "outputs": [
    {
     "data": {
      "image/png": "[encoded data removed]",
      "text/plain": [
       "<matplotlib.figure.Figure at 0x11deb8e80>"
      ]
     },
     "metadata": {},
     "output_type": "display_data"
    }
   ],
   "source": [
    "fig, ax = plt.subplots()\n",
    "draw.overlay_skeleton_2d(image, skeleton, dilate=1, axes=ax);"
   ]
  },
  {
   "cell_type": "code",
   "execution_count": 15,
   "metadata": {},
   "outputs": [
    {
     "data": {
      "text/html": [
       "<div>\n",
       "<style scoped>\n",
       "    .dataframe tbody tr th:only-of-type {\n",
       "        vertical-align: middle;\n",
       "    }\n",
       "\n",
       "    .dataframe tbody tr th {\n",
       "        vertical-align: top;\n",
       "    }\n",
       "\n",
       "    .dataframe thead th {\n",
       "        text-align: right;\n",
       "    }\n",
       "</style>\n",
       "<table border=\"1\" class=\"dataframe\">\n",
       "  <thead>\n",
       "    <tr style=\"text-align: right;\">\n",
       "      <th></th>\n",
       "      <th>skeleton-id</th>\n",
       "      <th>node-id-0</th>\n",
       "      <th>node-id-1</th>\n",
       "      <th>branch-distance</th>\n",
       "      <th>branch-type</th>\n",
       "      <th>img-coord-0-0</th>\n",
       "      <th>img-coord-0-1</th>\n",
       "      <th>img-coord-1-0</th>\n",
       "      <th>img-coord-1-1</th>\n",
       "      <th>coord-0-0</th>\n",
       "      <th>coord-0-1</th>\n",
       "      <th>coord-1-0</th>\n",
       "      <th>coord-1-1</th>\n",
       "      <th>euclidean-distance</th>\n",
       "    </tr>\n",
       "  </thead>\n",
       "  <tbody>\n",
       "    <tr>\n",
       "      <th>0</th>\n",
       "      <td>1</td>\n",
       "      <td>1</td>\n",
       "      <td>34</td>\n",
       "      <td>20.086632</td>\n",
       "      <td>1</td>\n",
       "      <td>9</td>\n",
       "      <td>350</td>\n",
       "      <td>27</td>\n",
       "      <td>345</td>\n",
       "      <td>9.000000</td>\n",
       "      <td>350.000000</td>\n",
       "      <td>27.000000</td>\n",
       "      <td>345.250000</td>\n",
       "      <td>18.616189</td>\n",
       "    </tr>\n",
       "    <tr>\n",
       "      <th>1</th>\n",
       "      <td>1</td>\n",
       "      <td>3</td>\n",
       "      <td>34</td>\n",
       "      <td>22.157700</td>\n",
       "      <td>1</td>\n",
       "      <td>10</td>\n",
       "      <td>357</td>\n",
       "      <td>27</td>\n",
       "      <td>345</td>\n",
       "      <td>10.000000</td>\n",
       "      <td>357.000000</td>\n",
       "      <td>27.000000</td>\n",
       "      <td>345.250000</td>\n",
       "      <td>20.665491</td>\n",
       "    </tr>\n",
       "    <tr>\n",
       "      <th>2</th>\n",
       "      <td>1</td>\n",
       "      <td>34</td>\n",
       "      <td>36</td>\n",
       "      <td>26.028731</td>\n",
       "      <td>2</td>\n",
       "      <td>27</td>\n",
       "      <td>345</td>\n",
       "      <td>47</td>\n",
       "      <td>331</td>\n",
       "      <td>27.000000</td>\n",
       "      <td>345.250000</td>\n",
       "      <td>47.666667</td>\n",
       "      <td>331.666667</td>\n",
       "      <td>24.730913</td>\n",
       "    </tr>\n",
       "    <tr>\n",
       "      <th>3</th>\n",
       "      <td>1</td>\n",
       "      <td>36</td>\n",
       "      <td>38</td>\n",
       "      <td>141.609678</td>\n",
       "      <td>2</td>\n",
       "      <td>47</td>\n",
       "      <td>331</td>\n",
       "      <td>139</td>\n",
       "      <td>246</td>\n",
       "      <td>47.666667</td>\n",
       "      <td>331.666667</td>\n",
       "      <td>139.333333</td>\n",
       "      <td>246.666667</td>\n",
       "      <td>125.011111</td>\n",
       "    </tr>\n",
       "    <tr>\n",
       "      <th>4</th>\n",
       "      <td>1</td>\n",
       "      <td>36</td>\n",
       "      <td>177</td>\n",
       "      <td>69.140452</td>\n",
       "      <td>1</td>\n",
       "      <td>47</td>\n",
       "      <td>331</td>\n",
       "      <td>93</td>\n",
       "      <td>373</td>\n",
       "      <td>47.666667</td>\n",
       "      <td>331.666667</td>\n",
       "      <td>93.000000</td>\n",
       "      <td>373.000000</td>\n",
       "      <td>61.347824</td>\n",
       "    </tr>\n",
       "  </tbody>\n",
       "</table>\n",
       "</div>"
      ],
      "text/plain": [
       "   skeleton-id  node-id-0  node-id-1  branch-distance  branch-type  \\\n",
       "0            1          1         34        20.086632            1   \n",
       "1            1          3         34        22.157700            1   \n",
       "2            1         34         36        26.028731            2   \n",
       "3            1         36         38       141.609678            2   \n",
       "4            1         36        177        69.140452            1   \n",
       "\n",
       "   img-coord-0-0  img-coord-0-1  img-coord-1-0  img-coord-1-1  coord-0-0  \\\n",
       "0              9            350             27            345   9.000000   \n",
       "1             10            357             27            345  10.000000   \n",
       "2             27            345             47            331  27.000000   \n",
       "3             47            331            139            246  47.666667   \n",
       "4             47            331             93            373  47.666667   \n",
       "\n",
       "    coord-0-1   coord-1-0   coord-1-1  euclidean-distance  \n",
       "0  350.000000   27.000000  345.250000           18.616189  \n",
       "1  357.000000   27.000000  345.250000           20.665491  \n",
       "2  345.250000   47.666667  331.666667           24.730913  \n",
       "3  331.666667  139.333333  246.666667          125.011111  \n",
       "4  331.666667   93.000000  373.000000           61.347824  "
      ]
     },
     "execution_count": 15,
     "metadata": {},
     "output_type": "execute_result"
    }
   ],
   "source": [
    "pixel_graph, coordinates, degrees = csr.skeleton_to_csgraph(skeleton)\n",
    "\n",
    "branch_data = csr.summarise(skeleton, spacing=1)\n",
    "branch_data.head()"
   ]
  }
 ],
 "metadata": {
  "kernelspec": {
   "display_name": "Python 3",
   "language": "python",
   "name": "python3"
  },
  "language_info": {
   "codemirror_mode": {
    "name": "ipython",
    "version": 3
   },
   "file_extension": ".py",
   "mimetype": "text/x-python",
   "name": "python",
   "nbconvert_exporter": "python",
   "pygments_lexer": "ipython3",
   "version": "3.6.3"
  }
 },
 "nbformat": 4,
 "nbformat_minor": 2
}
